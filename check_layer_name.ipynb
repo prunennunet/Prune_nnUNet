{
 "cells": [
  {
   "metadata": {},
   "cell_type": "code",
   "source": [
    "from numpy.ma.core import shape\n",
    "\n",
    "from model_analysis.plot_weight_distribution import load_model_weights_with_path\n",
    "\n",
    "model_path = \"nnUNet_results_norm_off_bottleneck_up_2/Dataset027_ACDC/FlexibleTrainerV1__nnUNetPlans__2d/fold_all/checkpoint_final.pth\"\n",
    "model = load_model_weights_with_path(model_path)"
   ],
   "id": "9df9ad1be679dfc6",
   "outputs": [],
   "execution_count": null
  },
  {
   "metadata": {},
   "cell_type": "code",
   "source": [
    "# for key, value in model.items():\n",
    "#     print(key)\n",
    "#     print(shape(value))\n",
    "def count_unique_params_from_ordereddict(ordered_dict):\n",
    "    seen_storages = set()\n",
    "    total_params = 0\n",
    "\n",
    "    for name, values in ordered_dict.items():\n",
    "        storage_id = id(values.untyped_storage())\n",
    "        if storage_id not in seen_storages:\n",
    "            seen_storages.add(storage_id)\n",
    "            layer_params = values.numel()\n",
    "            total_params += layer_params\n",
    "            print(f\"{name} : {layer_params}\")\n",
    "        else:\n",
    "            print(f\"Skipped {name}\")\n",
    "\n",
    "    return total_params\n"
   ],
   "id": "90bf06c558721586",
   "outputs": [],
   "execution_count": null
  },
  {
   "metadata": {},
   "cell_type": "code",
   "source": [
    "import os\n",
    "\n",
    "# Write all keys to a text file, one key per line, avoiding duplicates with the same id\n",
    "output_text_file = 'model_keys.txt'\n",
    "if os.path.exists(output_text_file):\n",
    "    os.remove(output_text_file)\n",
    "\n",
    "seen_ids = set()  # To track which objects we've already seen\n",
    "\n",
    "with open('model_keys.txt', 'w') as f:\n",
    "    for key, value in model.items():\n",
    "        value_id = id(value.untyped_storage())\n",
    "\n",
    "        if value_id not in seen_ids:\n",
    "            f.write(key + '\\n' + str(shape(model[key])) + '\\n')\n",
    "            seen_ids.add(value_id)  # Mark this ID as seen\n",
    "            print(f\"value id is {value_id}\")\n",
    "\n",
    "    # for key in model.keys():\n",
    "    #     # Get the ID of the value associated with this key\n",
    "    #     value_id = id(model[key])\n",
    "    #\n",
    "    #     # Only write this key if we haven't seen its value before\n",
    "    #     if value_id not in seen_ids:\n",
    "    #         f.write(key + '\\n' + str(shape(model[key])) + '\\n')\n",
    "    #         seen_ids.add(value_id)  # Mark this ID as seen"
   ],
   "id": "e9b462a989fe0eae",
   "outputs": [],
   "execution_count": null
  },
  {
   "metadata": {},
   "cell_type": "code",
   "source": "count_unique_params_from_ordereddict(model)",
   "id": "f61a49144cd8be9e",
   "outputs": [],
   "execution_count": null
  }
 ],
 "metadata": {
  "kernelspec": {
   "display_name": "Python 3",
   "language": "python",
   "name": "python3"
  },
  "language_info": {
   "codemirror_mode": {
    "name": "ipython",
    "version": 2
   },
   "file_extension": ".py",
   "mimetype": "text/x-python",
   "name": "python",
   "nbconvert_exporter": "python",
   "pygments_lexer": "ipython2",
   "version": "2.7.6"
  }
 },
 "nbformat": 4,
 "nbformat_minor": 5
}
