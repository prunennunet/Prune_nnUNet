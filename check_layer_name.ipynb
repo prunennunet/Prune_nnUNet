{
 "cells": [
  {
   "metadata": {},
   "cell_type": "code",
   "source": [
    "from numpy.ma.core import shape\n",
    "\n",
    "from model_analysis.plot_weight_distribution import load_model_weights_with_path\n",
    "\n",
    "model_path = \"nnUNet_results_norm_off/Dataset027_ACDC/FlexibleTrainerV1__nnUNetPlans__2d/fold_all/checkpoint_best.pth\"\n",
    "model = load_model_weights_with_path(model_path)"
   ],
   "id": "9df9ad1be679dfc6",
   "outputs": [],
   "execution_count": null
  },
  {
   "metadata": {},
   "cell_type": "code",
   "source": [
    "for key, value in model.items():\n",
    "    print(key)\n",
    "    print(shape(value))\n"
   ],
   "id": "90bf06c558721586",
   "outputs": [],
   "execution_count": null
  },
  {
   "metadata": {},
   "cell_type": "code",
   "source": [
    "import os\n",
    "\n",
    "# Write all keys to a text file, one key per line\n",
    "output_text_file = 'model_keys.txt'\n",
    "if os.path.exists(output_text_file):\n",
    "    os.remove(output_text_file)\n",
    "\n",
    "with open('model_keys.txt', 'w') as f:\n",
    "    for key in model.keys():\n",
    "        f.write(key + '\\n')"
   ],
   "id": "e9b462a989fe0eae",
   "outputs": [],
   "execution_count": null
  },
  {
   "metadata": {},
   "cell_type": "code",
   "source": [
    "for i in range(1, 2):\n",
    "    print(i)"
   ],
   "id": "f61a49144cd8be9e",
   "outputs": [],
   "execution_count": null
  }
 ],
 "metadata": {
  "kernelspec": {
   "display_name": "Python 3",
   "language": "python",
   "name": "python3"
  },
  "language_info": {
   "codemirror_mode": {
    "name": "ipython",
    "version": 2
   },
   "file_extension": ".py",
   "mimetype": "text/x-python",
   "name": "python",
   "nbconvert_exporter": "python",
   "pygments_lexer": "ipython2",
   "version": "2.7.6"
  }
 },
 "nbformat": 4,
 "nbformat_minor": 5
}
