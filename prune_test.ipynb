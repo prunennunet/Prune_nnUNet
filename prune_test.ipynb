{
 "cells": [
  {
   "metadata": {
    "ExecuteTime": {
     "end_time": "2025-03-06T11:30:36.727578Z",
     "start_time": "2025-03-06T11:30:34.892968Z"
    }
   },
   "cell_type": "code",
   "source": [
    "from pathlib import Path\n",
    "from helper.read_config import read_config, get_prune_config\n",
    "from helper.load_model import choose_device, load_predictor_from_folder\n",
    "from prune.range_prune import apply_range_pruning_to_model\n",
    "from prune.verify_prune import verify_pruning\n",
    "from pprint import pprint\n",
    "from prune.predict_after_prune import predict_after_prune"
   ],
   "id": "e18ff13b5dce7de6",
   "outputs": [
    {
     "name": "stdout",
     "output_type": "stream",
     "text": [
      "nnUNet_raw is not defined and nnU-Net can only be used on data for which preprocessed files are already present on your system. nnU-Net cannot be used for experiment planning and preprocessing like this. If this is not intended, please read documentation/setting_up_paths.md for information on how to set this up properly.\n",
      "nnUNet_preprocessed is not defined and nnU-Net can not be used for preprocessing or training. If this is not intended, please read documentation/setting_up_paths.md for information on how to set this up.\n",
      "nnUNet_results is not defined and nnU-Net cannot be used for training or inference. If this is not intended behavior, please read documentation/setting_up_paths.md for information on how to set this up.\n"
     ]
    }
   ],
   "execution_count": 1
  },
  {
   "cell_type": "code",
   "id": "initial_id",
   "metadata": {
    "collapsed": true,
    "ExecuteTime": {
     "end_time": "2025-03-06T11:30:36.768743Z",
     "start_time": "2025-03-06T11:30:36.738480Z"
    }
   },
   "source": [
    "config_path = Path(\"scripts/config/config.yaml\")\n",
    "device = choose_device()"
   ],
   "outputs": [],
   "execution_count": 2
  },
  {
   "metadata": {
    "ExecuteTime": {
     "end_time": "2025-03-06T11:30:37.355580Z",
     "start_time": "2025-03-06T11:30:36.811824Z"
    }
   },
   "cell_type": "code",
   "source": [
    "# Get the network architecture\n",
    "config = read_config(config_path)\n",
    "prune_config = get_prune_config(config)\n",
    "pprint(prune_config)\n",
    "predictor = load_predictor_from_folder(prune_config['model_folder'], prune_config['fold_tuple'], prune_config['checkpoint_name'])\n",
    "model = predictor.network\n",
    "\n",
    "# Inspect state_dict BEFORE pruning\n",
    "print(\"===== STATE DICT BEFORE PRUNING =====\")\n",
    "before_keys = set()\n",
    "for key in model.state_dict().keys():\n",
    "    before_keys.add(key)\n",
    "    # Print a sample of keys to avoid overwhelming output\n",
    "    if len(before_keys) <= 10 or 'encoder.stages.0.0.convs.0' in key:\n",
    "        print(f\"KEY: {key}\")"
   ],
   "id": "a99b9b8ce563ad75",
   "outputs": [
    {
     "name": "stdout",
     "output_type": "stream",
     "text": [
      "{'checkpoint_name': 'checkpoint_final.pth',\n",
      " 'fold': 0,\n",
      " 'fold_tuple': (0,),\n",
      " 'model_folder': 'nnUNet_results_prune_test/Dataset027_ACDC/FlexibleTrainerV1__nnUNetPlans__2d',\n",
      " 'predict': {'input_folder': 'nnUNet_raw/Dataset027_ACDC/imagesTs',\n",
      "             'output_folder': 'nnUNet_results_prune_test/Dataset027_ACDC/FlexibleTrainerV1__nnUNetPlans__2d/predictions_test2'},\n",
      " 'prune_method': None}\n",
      "/mnt/data/pruning_nnunet/nnunetv2/nnunetv2\n",
      "Using label manager: <class 'nnunetv2.utilities.label_handling.label_handling.LabelManager'>\n",
      "===== STATE DICT BEFORE PRUNING =====\n",
      "KEY: encoder.stages.0.0.convs.0.conv.weight\n",
      "KEY: encoder.stages.0.0.convs.0.conv.bias\n",
      "KEY: encoder.stages.0.0.convs.0.norm.weight\n",
      "KEY: encoder.stages.0.0.convs.0.norm.bias\n",
      "KEY: encoder.stages.0.0.convs.0.all_modules.0.weight\n",
      "KEY: encoder.stages.0.0.convs.0.all_modules.0.bias\n",
      "KEY: encoder.stages.0.0.convs.0.all_modules.1.weight\n",
      "KEY: encoder.stages.0.0.convs.0.all_modules.1.bias\n",
      "KEY: encoder.stages.0.0.convs.1.conv.weight\n",
      "KEY: encoder.stages.0.0.convs.1.conv.bias\n",
      "KEY: decoder.encoder.stages.0.0.convs.0.conv.weight\n",
      "KEY: decoder.encoder.stages.0.0.convs.0.conv.bias\n",
      "KEY: decoder.encoder.stages.0.0.convs.0.norm.weight\n",
      "KEY: decoder.encoder.stages.0.0.convs.0.norm.bias\n",
      "KEY: decoder.encoder.stages.0.0.convs.0.all_modules.0.weight\n",
      "KEY: decoder.encoder.stages.0.0.convs.0.all_modules.0.bias\n",
      "KEY: decoder.encoder.stages.0.0.convs.0.all_modules.1.weight\n",
      "KEY: decoder.encoder.stages.0.0.convs.0.all_modules.1.bias\n"
     ]
    }
   ],
   "execution_count": 3
  },
  {
   "metadata": {
    "ExecuteTime": {
     "end_time": "2025-03-06T11:30:37.367280Z",
     "start_time": "2025-03-06T11:30:37.364003Z"
    }
   },
   "cell_type": "code",
   "source": [
    "# print(list(model.named_parameters()))\n",
    "# print(model)\n",
    "verify_pruning(predictor.network)"
   ],
   "id": "fab2670c64c68bb8",
   "outputs": [
    {
     "name": "stdout",
     "output_type": "stream",
     "text": [
      "No convolutional layers / weight masks found in the model.\n"
     ]
    },
    {
     "data": {
      "text/plain": [
       "False"
      ]
     },
     "execution_count": 4,
     "metadata": {},
     "output_type": "execute_result"
    }
   ],
   "execution_count": 4
  },
  {
   "metadata": {
    "ExecuteTime": {
     "end_time": "2025-03-06T11:30:37.449647Z",
     "start_time": "2025-03-06T11:30:37.414362Z"
    }
   },
   "cell_type": "code",
   "source": [
    "prune_model = apply_range_pruning_to_model(model, min_val=-5.0e-0, max_val=5.0e-0)\n",
    "\n",
    "# Inspect state_dict AFTER pruning\n",
    "print(\"\\n===== STATE DICT AFTER PRUNING =====\")\n",
    "after_keys = set()\n",
    "for key in prune_model.state_dict().keys():\n",
    "    after_keys.add(key)\n",
    "    # Print a sample of keys to avoid overwhelming output\n",
    "    if len(after_keys) <= 10 or 'encoder.stages.0.0.convs.0' in key:\n",
    "        print(f\"KEY: {key}\")"
   ],
   "id": "681298ec744c366",
   "outputs": [
    {
     "name": "stdout",
     "output_type": "stream",
     "text": [
      "encoder.stages.0.0.convs.0.conv: pruned 288/288 weights (100.00%)\n",
      "encoder.stages.0.0.convs.1.conv: pruned 9216/9216 weights (100.00%)\n",
      "encoder.stages.1.0.convs.0.conv: pruned 18432/18432 weights (100.00%)\n",
      "encoder.stages.1.0.convs.1.conv: pruned 36864/36864 weights (100.00%)\n",
      "encoder.stages.2.0.convs.0.conv: pruned 73728/73728 weights (100.00%)\n",
      "encoder.stages.2.0.convs.1.conv: pruned 147456/147456 weights (100.00%)\n",
      "encoder.stages.3.0.convs.0.conv: pruned 294912/294912 weights (100.00%)\n",
      "encoder.stages.3.0.convs.1.conv: pruned 589824/589824 weights (100.00%)\n",
      "encoder.stages.4.0.convs.0.conv: pruned 1179648/1179648 weights (100.00%)\n",
      "encoder.stages.4.0.convs.1.conv: pruned 2359296/2359296 weights (100.00%)\n",
      "encoder.stages.5.0.convs.0.conv: pruned 2359296/2359296 weights (100.00%)\n",
      "encoder.stages.5.0.convs.1.conv: pruned 2359296/2359296 weights (100.00%)\n",
      "decoder.stages.0.convs.0.conv: pruned 4718592/4718592 weights (100.00%)\n",
      "decoder.stages.0.convs.1.conv: pruned 2359296/2359296 weights (100.00%)\n",
      "decoder.stages.1.convs.0.conv: pruned 1179648/1179648 weights (100.00%)\n",
      "decoder.stages.1.convs.1.conv: pruned 589824/589824 weights (100.00%)\n",
      "decoder.stages.2.convs.0.conv: pruned 294912/294912 weights (100.00%)\n",
      "decoder.stages.2.convs.1.conv: pruned 147456/147456 weights (100.00%)\n",
      "decoder.stages.3.convs.0.conv: pruned 73728/73728 weights (100.00%)\n",
      "decoder.stages.3.convs.1.conv: pruned 36864/36864 weights (100.00%)\n",
      "decoder.stages.4.convs.0.conv: pruned 18432/18432 weights (100.00%)\n",
      "decoder.stages.4.convs.1.conv: pruned 9216/9216 weights (100.00%)\n",
      "decoder.transpconvs.0: pruned 1048576/1048576 weights (100.00%)\n",
      "decoder.transpconvs.1: pruned 524288/524288 weights (100.00%)\n",
      "decoder.transpconvs.2: pruned 131072/131072 weights (100.00%)\n",
      "decoder.transpconvs.3: pruned 32768/32768 weights (100.00%)\n",
      "decoder.transpconvs.4: pruned 8192/8192 weights (100.00%)\n",
      "decoder.seg_layers.0: pruned 2048/2048 weights (100.00%)\n",
      "decoder.seg_layers.1: pruned 1024/1024 weights (100.00%)\n",
      "decoder.seg_layers.2: pruned 512/512 weights (100.00%)\n",
      "decoder.seg_layers.3: pruned 256/256 weights (100.00%)\n",
      "decoder.seg_layers.4: pruned 128/128 weights (100.00%)\n",
      "Total pruned: 20605088/20605088 weights (100.00%)\n",
      "\n",
      "===== STATE DICT AFTER PRUNING =====\n",
      "KEY: encoder.stages.0.0.convs.0.conv.bias\n",
      "KEY: encoder.stages.0.0.convs.0.conv.weight_orig\n",
      "KEY: encoder.stages.0.0.convs.0.conv.weight_mask\n",
      "KEY: encoder.stages.0.0.convs.0.norm.weight\n",
      "KEY: encoder.stages.0.0.convs.0.norm.bias\n",
      "KEY: encoder.stages.0.0.convs.0.all_modules.0.bias\n",
      "KEY: encoder.stages.0.0.convs.0.all_modules.0.weight_orig\n",
      "KEY: encoder.stages.0.0.convs.0.all_modules.0.weight_mask\n",
      "KEY: encoder.stages.0.0.convs.0.all_modules.1.weight\n",
      "KEY: encoder.stages.0.0.convs.0.all_modules.1.bias\n",
      "KEY: decoder.encoder.stages.0.0.convs.0.conv.bias\n",
      "KEY: decoder.encoder.stages.0.0.convs.0.conv.weight_orig\n",
      "KEY: decoder.encoder.stages.0.0.convs.0.conv.weight_mask\n",
      "KEY: decoder.encoder.stages.0.0.convs.0.norm.weight\n",
      "KEY: decoder.encoder.stages.0.0.convs.0.norm.bias\n",
      "KEY: decoder.encoder.stages.0.0.convs.0.all_modules.0.bias\n",
      "KEY: decoder.encoder.stages.0.0.convs.0.all_modules.0.weight_orig\n",
      "KEY: decoder.encoder.stages.0.0.convs.0.all_modules.0.weight_mask\n",
      "KEY: decoder.encoder.stages.0.0.convs.0.all_modules.1.weight\n",
      "KEY: decoder.encoder.stages.0.0.convs.0.all_modules.1.bias\n"
     ]
    }
   ],
   "execution_count": 5
  },
  {
   "metadata": {
    "ExecuteTime": {
     "end_time": "2025-03-06T11:30:37.462334Z",
     "start_time": "2025-03-06T11:30:37.460456Z"
    }
   },
   "cell_type": "code",
   "source": [
    "# Show what's changed\n",
    "print(\"\\n===== CHANGES IN STATE DICT =====\")\n",
    "removed_keys = before_keys - after_keys\n",
    "added_keys = after_keys - before_keys\n",
    "\n",
    "print(\"REMOVED KEYS:\")\n",
    "for key in removed_keys:\n",
    "    if 'encoder.stages.0.0.convs.0' in key:\n",
    "        print(f\"- {key}\")\n",
    "\n",
    "print(\"\\nADDED KEYS:\")\n",
    "for key in added_keys:\n",
    "    if 'encoder.stages.0.0.convs.0' in key:\n",
    "        print(f\"+ {key}\")"
   ],
   "id": "4fd0994843b5407b",
   "outputs": [
    {
     "name": "stdout",
     "output_type": "stream",
     "text": [
      "\n",
      "===== CHANGES IN STATE DICT =====\n",
      "REMOVED KEYS:\n",
      "- encoder.stages.0.0.convs.0.conv.weight\n",
      "- encoder.stages.0.0.convs.0.all_modules.0.weight\n",
      "- decoder.encoder.stages.0.0.convs.0.conv.weight\n",
      "- decoder.encoder.stages.0.0.convs.0.all_modules.0.weight\n",
      "\n",
      "ADDED KEYS:\n",
      "+ encoder.stages.0.0.convs.0.all_modules.0.weight_mask\n",
      "+ decoder.encoder.stages.0.0.convs.0.conv.weight_orig\n",
      "+ decoder.encoder.stages.0.0.convs.0.conv.weight_mask\n",
      "+ encoder.stages.0.0.convs.0.conv.weight_orig\n",
      "+ decoder.encoder.stages.0.0.convs.0.all_modules.0.weight_orig\n",
      "+ encoder.stages.0.0.convs.0.all_modules.0.weight_orig\n",
      "+ decoder.encoder.stages.0.0.convs.0.all_modules.0.weight_mask\n",
      "+ encoder.stages.0.0.convs.0.conv.weight_mask\n"
     ]
    }
   ],
   "execution_count": 6
  },
  {
   "metadata": {
    "ExecuteTime": {
     "end_time": "2025-03-06T11:30:37.523508Z",
     "start_time": "2025-03-06T11:30:37.505901Z"
    }
   },
   "cell_type": "code",
   "source": "_ = verify_pruning(predictor.network)",
   "id": "49ce5e37e7a3bf2c",
   "outputs": [
    {
     "name": "stdout",
     "output_type": "stream",
     "text": [
      "Layer encoder.stages.0.0.convs.0.conv: 288/288 weights pruned (100.00% sparsity)\n",
      "Layer encoder.stages.0.0.convs.1.conv: 9216/9216 weights pruned (100.00% sparsity)\n",
      "Layer encoder.stages.1.0.convs.0.conv: 18432/18432 weights pruned (100.00% sparsity)\n",
      "Layer encoder.stages.1.0.convs.1.conv: 36864/36864 weights pruned (100.00% sparsity)\n",
      "Layer encoder.stages.2.0.convs.0.conv: 73728/73728 weights pruned (100.00% sparsity)\n",
      "Layer encoder.stages.2.0.convs.1.conv: 147456/147456 weights pruned (100.00% sparsity)\n",
      "Layer encoder.stages.3.0.convs.0.conv: 294912/294912 weights pruned (100.00% sparsity)\n",
      "Layer encoder.stages.3.0.convs.1.conv: 589824/589824 weights pruned (100.00% sparsity)\n",
      "Layer encoder.stages.4.0.convs.0.conv: 1179648/1179648 weights pruned (100.00% sparsity)\n",
      "Layer encoder.stages.4.0.convs.1.conv: 2359296/2359296 weights pruned (100.00% sparsity)\n",
      "Layer encoder.stages.5.0.convs.0.conv: 2359296/2359296 weights pruned (100.00% sparsity)\n",
      "Layer encoder.stages.5.0.convs.1.conv: 2359296/2359296 weights pruned (100.00% sparsity)\n",
      "Layer decoder.stages.0.convs.0.conv: 4718592/4718592 weights pruned (100.00% sparsity)\n",
      "Layer decoder.stages.0.convs.1.conv: 2359296/2359296 weights pruned (100.00% sparsity)\n",
      "Layer decoder.stages.1.convs.0.conv: 1179648/1179648 weights pruned (100.00% sparsity)\n",
      "Layer decoder.stages.1.convs.1.conv: 589824/589824 weights pruned (100.00% sparsity)\n",
      "Layer decoder.stages.2.convs.0.conv: 294912/294912 weights pruned (100.00% sparsity)\n",
      "Layer decoder.stages.2.convs.1.conv: 147456/147456 weights pruned (100.00% sparsity)\n",
      "Layer decoder.stages.3.convs.0.conv: 73728/73728 weights pruned (100.00% sparsity)\n",
      "Layer decoder.stages.3.convs.1.conv: 36864/36864 weights pruned (100.00% sparsity)\n",
      "Layer decoder.stages.4.convs.0.conv: 18432/18432 weights pruned (100.00% sparsity)\n",
      "Layer decoder.stages.4.convs.1.conv: 9216/9216 weights pruned (100.00% sparsity)\n",
      "Layer decoder.transpconvs.0: 1048576/1048576 weights pruned (100.00% sparsity)\n",
      "Layer decoder.transpconvs.1: 524288/524288 weights pruned (100.00% sparsity)\n",
      "Layer decoder.transpconvs.2: 131072/131072 weights pruned (100.00% sparsity)\n",
      "Layer decoder.transpconvs.3: 32768/32768 weights pruned (100.00% sparsity)\n",
      "Layer decoder.transpconvs.4: 8192/8192 weights pruned (100.00% sparsity)\n",
      "Layer decoder.seg_layers.0: 2048/2048 weights pruned (100.00% sparsity)\n",
      "Layer decoder.seg_layers.1: 1024/1024 weights pruned (100.00% sparsity)\n",
      "Layer decoder.seg_layers.2: 512/512 weights pruned (100.00% sparsity)\n",
      "Layer decoder.seg_layers.3: 256/256 weights pruned (100.00% sparsity)\n",
      "Layer decoder.seg_layers.4: 128/128 weights pruned (100.00% sparsity)\n",
      "\n",
      "Overall pruning: 20605088/20605088 weights pruned (100.00% sparsity)\n",
      "Number of pruned layers: 32\n"
     ]
    }
   ],
   "execution_count": 7
  },
  {
   "metadata": {
    "ExecuteTime": {
     "end_time": "2025-03-06T11:30:55.060480Z",
     "start_time": "2025-03-06T11:30:37.552383Z"
    }
   },
   "cell_type": "code",
   "source": "predict_after_prune(predictor, prune_config)",
   "id": "ccfac5db842309b5",
   "outputs": [
    {
     "name": "stdout",
     "output_type": "stream",
     "text": [
      "Saved pruned model with masks to: nnUNet_results_prune_test/Dataset027_ACDC/FlexibleTrainerV1__nnUNetPlans__2d/predictions_test2/fold_0/final_model/pruned_model_with_masks.pth\n",
      "Removing pruning parameterization for Conv2d(1, 32, kernel_size=(3, 3), stride=(1, 1), padding=(1, 1))\n",
      "Removing pruning parameterization for Conv2d(32, 32, kernel_size=(3, 3), stride=(1, 1), padding=(1, 1))\n",
      "Removing pruning parameterization for Conv2d(32, 64, kernel_size=(3, 3), stride=(2, 2), padding=(1, 1))\n",
      "Removing pruning parameterization for Conv2d(64, 64, kernel_size=(3, 3), stride=(1, 1), padding=(1, 1))\n",
      "Removing pruning parameterization for Conv2d(64, 128, kernel_size=(3, 3), stride=(2, 2), padding=(1, 1))\n",
      "Removing pruning parameterization for Conv2d(128, 128, kernel_size=(3, 3), stride=(1, 1), padding=(1, 1))\n",
      "Removing pruning parameterization for Conv2d(128, 256, kernel_size=(3, 3), stride=(2, 2), padding=(1, 1))\n",
      "Removing pruning parameterization for Conv2d(256, 256, kernel_size=(3, 3), stride=(1, 1), padding=(1, 1))\n",
      "Removing pruning parameterization for Conv2d(256, 512, kernel_size=(3, 3), stride=(2, 2), padding=(1, 1))\n",
      "Removing pruning parameterization for Conv2d(512, 512, kernel_size=(3, 3), stride=(1, 1), padding=(1, 1))\n",
      "Removing pruning parameterization for Conv2d(512, 512, kernel_size=(3, 3), stride=(2, 2), padding=(1, 1))\n",
      "Removing pruning parameterization for Conv2d(512, 512, kernel_size=(3, 3), stride=(1, 1), padding=(1, 1))\n",
      "Removing pruning parameterization for Conv2d(1024, 512, kernel_size=(3, 3), stride=(1, 1), padding=(1, 1))\n",
      "Removing pruning parameterization for Conv2d(512, 512, kernel_size=(3, 3), stride=(1, 1), padding=(1, 1))\n",
      "Removing pruning parameterization for Conv2d(512, 256, kernel_size=(3, 3), stride=(1, 1), padding=(1, 1))\n",
      "Removing pruning parameterization for Conv2d(256, 256, kernel_size=(3, 3), stride=(1, 1), padding=(1, 1))\n",
      "Removing pruning parameterization for Conv2d(256, 128, kernel_size=(3, 3), stride=(1, 1), padding=(1, 1))\n",
      "Removing pruning parameterization for Conv2d(128, 128, kernel_size=(3, 3), stride=(1, 1), padding=(1, 1))\n",
      "Removing pruning parameterization for Conv2d(128, 64, kernel_size=(3, 3), stride=(1, 1), padding=(1, 1))\n",
      "Removing pruning parameterization for Conv2d(64, 64, kernel_size=(3, 3), stride=(1, 1), padding=(1, 1))\n",
      "Removing pruning parameterization for Conv2d(64, 32, kernel_size=(3, 3), stride=(1, 1), padding=(1, 1))\n",
      "Removing pruning parameterization for Conv2d(32, 32, kernel_size=(3, 3), stride=(1, 1), padding=(1, 1))\n",
      "Removing pruning parameterization for ConvTranspose2d(512, 512, kernel_size=(2, 2), stride=(2, 2))\n",
      "Removing pruning parameterization for ConvTranspose2d(512, 256, kernel_size=(2, 2), stride=(2, 2))\n",
      "Removing pruning parameterization for ConvTranspose2d(256, 128, kernel_size=(2, 2), stride=(2, 2))\n",
      "Removing pruning parameterization for ConvTranspose2d(128, 64, kernel_size=(2, 2), stride=(2, 2))\n",
      "Removing pruning parameterization for ConvTranspose2d(64, 32, kernel_size=(2, 2), stride=(2, 2))\n",
      "Removing pruning parameterization for Conv2d(512, 4, kernel_size=(1, 1), stride=(1, 1))\n",
      "Removing pruning parameterization for Conv2d(256, 4, kernel_size=(1, 1), stride=(1, 1))\n",
      "Removing pruning parameterization for Conv2d(128, 4, kernel_size=(1, 1), stride=(1, 1))\n",
      "Removing pruning parameterization for Conv2d(64, 4, kernel_size=(1, 1), stride=(1, 1))\n",
      "Removing pruning parameterization for Conv2d(32, 4, kernel_size=(1, 1), stride=(1, 1))\n",
      "Saved pruned model with standard structure to: nnUNet_results_prune_test/Dataset027_ACDC/FlexibleTrainerV1__nnUNetPlans__2d/predictions_test2/fold_0/final_model/pruned_model_standard.pth\n",
      "There are 100 cases in the source folder\n",
      "I am process 0 out of 1 (max process ID is 0, we start counting with 0!)\n",
      "There are 100 cases that I would like to predict\n"
     ]
    },
    {
     "name": "stderr",
     "output_type": "stream",
     "text": [
      "WARNING: In /tmp/SimpleITK-build/ITK/Modules/IO/NIFTI/src/itkNiftiImageIO.cxx, line 2008\n",
      "NiftiImageIO (0x3cbb2ec0): nnUNet_raw/Dataset027_ACDC/imagesTs/patient101_frame01_0000.nii.gz has unexpected scales in sform\n",
      "\n",
      "WARNING: In /tmp/SimpleITK-build/ITK/Modules/IO/NIFTI/src/itkNiftiImageIO.cxx, line 2008\n",
      "NiftiImageIO (0x3cbb2ec0): nnUNet_raw/Dataset027_ACDC/imagesTs/patient101_frame01_0000.nii.gz has unexpected scales in sform\n",
      "\n",
      "WARNING: In /tmp/SimpleITK-build/ITK/Modules/IO/NIFTI/src/itkNiftiImageIO.cxx, line 2008\n",
      "NiftiImageIO (0x39b205d0): nnUNet_raw/Dataset027_ACDC/imagesTs/patient101_frame14_0000.nii.gz has unexpected scales in sform\n",
      "\n",
      "WARNING: In /tmp/SimpleITK-build/ITK/Modules/IO/NIFTI/src/itkNiftiImageIO.cxx, line 2008\n",
      "NiftiImageIO (0x39b205d0): nnUNet_raw/Dataset027_ACDC/imagesTs/patient101_frame14_0000.nii.gz has unexpected scales in sform\n",
      "\n",
      "WARNING: In /tmp/SimpleITK-build/ITK/Modules/IO/NIFTI/src/itkNiftiImageIO.cxx, line 2008\n",
      "NiftiImageIO (0x29d12df0): nnUNet_raw/Dataset027_ACDC/imagesTs/patient102_frame01_0000.nii.gz has unexpected scales in sform\n",
      "\n",
      "WARNING: In /tmp/SimpleITK-build/ITK/Modules/IO/NIFTI/src/itkNiftiImageIO.cxx, line 2008\n",
      "NiftiImageIO (0x29d12df0): nnUNet_raw/Dataset027_ACDC/imagesTs/patient102_frame01_0000.nii.gz has unexpected scales in sform\n",
      "\n",
      "WARNING: In /tmp/SimpleITK-build/ITK/Modules/IO/NIFTI/src/itkNiftiImageIO.cxx, line 2008\n",
      "NiftiImageIO (0x3ceeeae0): nnUNet_raw/Dataset027_ACDC/imagesTs/patient102_frame13_0000.nii.gz has unexpected scales in sform\n",
      "\n",
      "WARNING: In /tmp/SimpleITK-build/ITK/Modules/IO/NIFTI/src/itkNiftiImageIO.cxx, line 2008\n",
      "NiftiImageIO (0x3ceeeae0): nnUNet_raw/Dataset027_ACDC/imagesTs/patient102_frame13_0000.nii.gz has unexpected scales in sform\n",
      "\n",
      "WARNING: In /tmp/SimpleITK-build/ITK/Modules/IO/NIFTI/src/itkNiftiImageIO.cxx, line 2008\n",
      "NiftiImageIO (0x29e38f20): nnUNet_raw/Dataset027_ACDC/imagesTs/patient103_frame11_0000.nii.gz has unexpected scales in sform\n",
      "\n",
      "WARNING: In /tmp/SimpleITK-build/ITK/Modules/IO/NIFTI/src/itkNiftiImageIO.cxx, line 2008\n",
      "NiftiImageIO (0x29e38f20): nnUNet_raw/Dataset027_ACDC/imagesTs/patient103_frame11_0000.nii.gz has unexpected scales in sform\n",
      "\n",
      "WARNING: In /tmp/SimpleITK-build/ITK/Modules/IO/NIFTI/src/itkNiftiImageIO.cxx, line 2008\n",
      "NiftiImageIO (0x3cbb2ec0): nnUNet_raw/Dataset027_ACDC/imagesTs/patient104_frame01_0000.nii.gz has unexpected scales in sform\n",
      "\n",
      "WARNING: In /tmp/SimpleITK-build/ITK/Modules/IO/NIFTI/src/itkNiftiImageIO.cxx, line 2008\n",
      "NiftiImageIO (0x3cbb2ec0): nnUNet_raw/Dataset027_ACDC/imagesTs/patient104_frame01_0000.nii.gz has unexpected scales in sform\n",
      "\n",
      "WARNING: In /tmp/SimpleITK-build/ITK/Modules/IO/NIFTI/src/itkNiftiImageIO.cxx, line 2008\n",
      "NiftiImageIO (0x39e5d290): nnUNet_raw/Dataset027_ACDC/imagesTs/patient103_frame01_0000.nii.gz has unexpected scales in sform\n",
      "\n",
      "WARNING: In /tmp/SimpleITK-build/ITK/Modules/IO/NIFTI/src/itkNiftiImageIO.cxx, line 2008\n",
      "NiftiImageIO (0x39e5d290): nnUNet_raw/Dataset027_ACDC/imagesTs/patient103_frame01_0000.nii.gz has unexpected scales in sform\n",
      "\n"
     ]
    },
    {
     "name": "stdout",
     "output_type": "stream",
     "text": [
      "\n",
      "Predicting patient101_frame01:\n",
      "perform_everything_on_device: True\n",
      "sending off prediction to background worker for resampling and export\n",
      "done with patient101_frame01\n",
      "\n",
      "Predicting patient101_frame14:\n",
      "perform_everything_on_device: True\n"
     ]
    },
    {
     "name": "stderr",
     "output_type": "stream",
     "text": [
      "WARNING: In /tmp/SimpleITK-build/ITK/Modules/IO/NIFTI/src/itkNiftiImageIO.cxx, line 2008\n",
      "NiftiImageIO (0x39b205d0): nnUNet_raw/Dataset027_ACDC/imagesTs/patient104_frame11_0000.nii.gz has unexpected scales in sform\n",
      "\n",
      "WARNING: In /tmp/SimpleITK-build/ITK/Modules/IO/NIFTI/src/itkNiftiImageIO.cxx, line 2008\n",
      "NiftiImageIO (0x39b205d0): nnUNet_raw/Dataset027_ACDC/imagesTs/patient104_frame11_0000.nii.gz has unexpected scales in sform\n",
      "\n"
     ]
    },
    {
     "name": "stdout",
     "output_type": "stream",
     "text": [
      "sending off prediction to background worker for resampling and export\n",
      "done with patient101_frame14\n",
      "\n",
      "Predicting patient102_frame01:\n",
      "perform_everything_on_device: True\n",
      "sending off prediction to background worker for resampling and export\n",
      "done with patient102_frame01\n",
      "\n",
      "Predicting patient102_frame13:\n",
      "perform_everything_on_device: True\n"
     ]
    },
    {
     "name": "stderr",
     "output_type": "stream",
     "text": [
      "WARNING: In /tmp/SimpleITK-build/ITK/Modules/IO/NIFTI/src/itkNiftiImageIO.cxx, line 2008\n",
      "NiftiImageIO (0x29d12df0): nnUNet_raw/Dataset027_ACDC/imagesTs/patient105_frame01_0000.nii.gz has unexpected scales in sform\n",
      "\n",
      "WARNING: In /tmp/SimpleITK-build/ITK/Modules/IO/NIFTI/src/itkNiftiImageIO.cxx, line 2008\n",
      "NiftiImageIO (0x29d12df0): nnUNet_raw/Dataset027_ACDC/imagesTs/patient105_frame01_0000.nii.gz has unexpected scales in sform\n",
      "\n",
      "WARNING: In /tmp/SimpleITK-build/ITK/Modules/IO/NIFTI/src/itkNiftiImageIO.cxx, line 2008\n",
      "NiftiImageIO (0x3ceeeae0): nnUNet_raw/Dataset027_ACDC/imagesTs/patient105_frame10_0000.nii.gz has unexpected scales in sform\n",
      "\n",
      "WARNING: In /tmp/SimpleITK-build/ITK/Modules/IO/NIFTI/src/itkNiftiImageIO.cxx, line 2008\n",
      "NiftiImageIO (0x3ceeeae0): nnUNet_raw/Dataset027_ACDC/imagesTs/patient105_frame10_0000.nii.gz has unexpected scales in sform\n",
      "\n"
     ]
    },
    {
     "name": "stdout",
     "output_type": "stream",
     "text": [
      "sending off prediction to background worker for resampling and export\n",
      "done with patient102_frame13\n",
      "\n",
      "Predicting patient103_frame01:\n",
      "perform_everything_on_device: True\n",
      "sending off prediction to background worker for resampling and export\n",
      "done with patient103_frame01\n",
      "\n",
      "Predicting patient103_frame11:\n",
      "perform_everything_on_device: True\n"
     ]
    },
    {
     "name": "stderr",
     "output_type": "stream",
     "text": [
      "WARNING: In /tmp/SimpleITK-build/ITK/Modules/IO/NIFTI/src/itkNiftiImageIO.cxx, line 2008\n",
      "NiftiImageIO (0x39e5d290): nnUNet_raw/Dataset027_ACDC/imagesTs/patient106_frame01_0000.nii.gz has unexpected scales in sform\n",
      "\n",
      "WARNING: In /tmp/SimpleITK-build/ITK/Modules/IO/NIFTI/src/itkNiftiImageIO.cxx, line 2008\n",
      "NiftiImageIO (0x39e5d290): nnUNet_raw/Dataset027_ACDC/imagesTs/patient106_frame01_0000.nii.gz has unexpected scales in sform\n",
      "\n",
      "WARNING: In /tmp/SimpleITK-build/ITK/Modules/IO/NIFTI/src/itkNiftiImageIO.cxx, line 2008\n",
      "NiftiImageIO (0x29e38f20): nnUNet_raw/Dataset027_ACDC/imagesTs/patient106_frame13_0000.nii.gz has unexpected scales in sform\n",
      "\n",
      "WARNING: In /tmp/SimpleITK-build/ITK/Modules/IO/NIFTI/src/itkNiftiImageIO.cxx, line 2008\n",
      "NiftiImageIO (0x29e38f20): nnUNet_raw/Dataset027_ACDC/imagesTs/patient106_frame13_0000.nii.gz has unexpected scales in sform\n",
      "\n"
     ]
    },
    {
     "name": "stdout",
     "output_type": "stream",
     "text": [
      "sending off prediction to background worker for resampling and export\n",
      "done with patient103_frame11\n",
      "\n",
      "Predicting patient104_frame01:\n",
      "perform_everything_on_device: True\n",
      "sending off prediction to background worker for resampling and export\n",
      "done with patient104_frame01\n",
      "\n",
      "Predicting patient104_frame11:\n",
      "perform_everything_on_device: True\n",
      "sending off prediction to background worker for resampling and export\n",
      "done with patient104_frame11\n"
     ]
    },
    {
     "name": "stderr",
     "output_type": "stream",
     "text": [
      "WARNING: In /tmp/SimpleITK-build/ITK/Modules/IO/NIFTI/src/itkNiftiImageIO.cxx, line 2008\n",
      "NiftiImageIO (0x3cbb2ec0): nnUNet_raw/Dataset027_ACDC/imagesTs/patient107_frame01_0000.nii.gz has unexpected scales in sform\n",
      "\n",
      "WARNING: In /tmp/SimpleITK-build/ITK/Modules/IO/NIFTI/src/itkNiftiImageIO.cxx, line 2008\n",
      "NiftiImageIO (0x3cbb2ec0): nnUNet_raw/Dataset027_ACDC/imagesTs/patient107_frame01_0000.nii.gz has unexpected scales in sform\n",
      "\n",
      "WARNING: In /tmp/SimpleITK-build/ITK/Modules/IO/NIFTI/src/itkNiftiImageIO.cxx, line 2008\n",
      "NiftiImageIO (0x39b205d0): nnUNet_raw/Dataset027_ACDC/imagesTs/patient107_frame10_0000.nii.gz has unexpected scales in sform\n",
      "\n",
      "WARNING: In /tmp/SimpleITK-build/ITK/Modules/IO/NIFTI/src/itkNiftiImageIO.cxx, line 2008\n",
      "NiftiImageIO (0x39b205d0): nnUNet_raw/Dataset027_ACDC/imagesTs/patient107_frame10_0000.nii.gz has unexpected scales in sform\n",
      "\n",
      "WARNING: In /tmp/SimpleITK-build/ITK/Modules/IO/NIFTI/src/itkNiftiImageIO.cxx, line 2008\n",
      "NiftiImageIO (0x29d12df0): nnUNet_raw/Dataset027_ACDC/imagesTs/patient108_frame01_0000.nii.gz has unexpected scales in sform\n",
      "\n",
      "WARNING: In /tmp/SimpleITK-build/ITK/Modules/IO/NIFTI/src/itkNiftiImageIO.cxx, line 2008\n",
      "NiftiImageIO (0x29d12df0): nnUNet_raw/Dataset027_ACDC/imagesTs/patient108_frame01_0000.nii.gz has unexpected scales in sform\n",
      "\n",
      "WARNING: In /tmp/SimpleITK-build/ITK/Modules/IO/NIFTI/src/itkNiftiImageIO.cxx, line 2008\n",
      "NiftiImageIO (0x3ceeeae0): nnUNet_raw/Dataset027_ACDC/imagesTs/patient108_frame09_0000.nii.gz has unexpected scales in sform\n",
      "\n",
      "WARNING: In /tmp/SimpleITK-build/ITK/Modules/IO/NIFTI/src/itkNiftiImageIO.cxx, line 2008\n",
      "NiftiImageIO (0x3ceeeae0): nnUNet_raw/Dataset027_ACDC/imagesTs/patient108_frame09_0000.nii.gz has unexpected scales in sform\n",
      "\n"
     ]
    },
    {
     "name": "stdout",
     "output_type": "stream",
     "text": [
      "\n",
      "Predicting patient105_frame01:\n",
      "perform_everything_on_device: True\n",
      "sending off prediction to background worker for resampling and export\n",
      "done with patient105_frame01\n",
      "\n",
      "Predicting patient105_frame10:\n",
      "perform_everything_on_device: True\n",
      "sending off prediction to background worker for resampling and export\n",
      "done with patient105_frame10\n",
      "\n",
      "Predicting patient106_frame01:\n",
      "perform_everything_on_device: True\n",
      "sending off prediction to background worker for resampling and export\n",
      "done with patient106_frame01\n",
      "\n",
      "Predicting patient106_frame13:\n",
      "perform_everything_on_device: True\n",
      "sending off prediction to background worker for resampling and export\n",
      "done with patient106_frame13\n",
      "\n",
      "Predicting patient107_frame01:\n",
      "perform_everything_on_device: True\n"
     ]
    },
    {
     "name": "stderr",
     "output_type": "stream",
     "text": [
      "WARNING: In /tmp/SimpleITK-build/ITK/Modules/IO/NIFTI/src/itkNiftiImageIO.cxx, line 2008\n",
      "NiftiImageIO (0x39e5d290): nnUNet_raw/Dataset027_ACDC/imagesTs/patient109_frame01_0000.nii.gz has unexpected scales in sform\n",
      "\n",
      "WARNING: In /tmp/SimpleITK-build/ITK/Modules/IO/NIFTI/src/itkNiftiImageIO.cxx, line 2008\n",
      "NiftiImageIO (0x39e5d290): nnUNet_raw/Dataset027_ACDC/imagesTs/patient109_frame01_0000.nii.gz has unexpected scales in sform\n",
      "\n",
      "WARNING: In /tmp/SimpleITK-build/ITK/Modules/IO/NIFTI/src/itkNiftiImageIO.cxx, line 2008\n",
      "NiftiImageIO (0x29e38f20): nnUNet_raw/Dataset027_ACDC/imagesTs/patient109_frame10_0000.nii.gz has unexpected scales in sform\n",
      "\n",
      "WARNING: In /tmp/SimpleITK-build/ITK/Modules/IO/NIFTI/src/itkNiftiImageIO.cxx, line 2008\n",
      "NiftiImageIO (0x29e38f20): nnUNet_raw/Dataset027_ACDC/imagesTs/patient109_frame10_0000.nii.gz has unexpected scales in sform\n",
      "\n",
      "WARNING: In /tmp/SimpleITK-build/ITK/Modules/IO/NIFTI/src/itkNiftiImageIO.cxx, line 2008\n",
      "NiftiImageIO (0x3cbb2ec0): nnUNet_raw/Dataset027_ACDC/imagesTs/patient110_frame01_0000.nii.gz has unexpected scales in sform\n",
      "\n",
      "WARNING: In /tmp/SimpleITK-build/ITK/Modules/IO/NIFTI/src/itkNiftiImageIO.cxx, line 2008\n",
      "NiftiImageIO (0x3cbb2ec0): nnUNet_raw/Dataset027_ACDC/imagesTs/patient110_frame01_0000.nii.gz has unexpected scales in sform\n",
      "\n"
     ]
    },
    {
     "name": "stdout",
     "output_type": "stream",
     "text": [
      "sending off prediction to background worker for resampling and export\n",
      "done with patient107_frame01\n",
      "\n",
      "Predicting patient107_frame10:\n",
      "perform_everything_on_device: True\n",
      "sending off prediction to background worker for resampling and export\n",
      "done with patient107_frame10\n",
      "\n",
      "Predicting patient108_frame01:\n",
      "perform_everything_on_device: True\n"
     ]
    },
    {
     "name": "stderr",
     "output_type": "stream",
     "text": [
      "WARNING: In /tmp/SimpleITK-build/ITK/Modules/IO/NIFTI/src/itkNiftiImageIO.cxx, line 2008\n",
      "NiftiImageIO (0x39b205d0): nnUNet_raw/Dataset027_ACDC/imagesTs/patient110_frame11_0000.nii.gz has unexpected scales in sform\n",
      "\n",
      "WARNING: In /tmp/SimpleITK-build/ITK/Modules/IO/NIFTI/src/itkNiftiImageIO.cxx, line 2008\n",
      "NiftiImageIO (0x39b205d0): nnUNet_raw/Dataset027_ACDC/imagesTs/patient110_frame11_0000.nii.gz has unexpected scales in sform\n",
      "\n",
      "WARNING: In /tmp/SimpleITK-build/ITK/Modules/IO/NIFTI/src/itkNiftiImageIO.cxx, line 2008\n",
      "NiftiImageIO (0x29d12df0): nnUNet_raw/Dataset027_ACDC/imagesTs/patient111_frame01_0000.nii.gz has unexpected scales in sform\n",
      "\n",
      "WARNING: In /tmp/SimpleITK-build/ITK/Modules/IO/NIFTI/src/itkNiftiImageIO.cxx, line 2008\n",
      "NiftiImageIO (0x29d12df0): nnUNet_raw/Dataset027_ACDC/imagesTs/patient111_frame01_0000.nii.gz has unexpected scales in sform\n",
      "\n"
     ]
    },
    {
     "name": "stdout",
     "output_type": "stream",
     "text": [
      "sending off prediction to background worker for resampling and export\n",
      "done with patient108_frame01\n",
      "\n",
      "Predicting patient108_frame09:\n",
      "perform_everything_on_device: True\n",
      "sending off prediction to background worker for resampling and export\n",
      "done with patient108_frame09\n",
      "\n",
      "Predicting patient109_frame01:\n",
      "perform_everything_on_device: True\n"
     ]
    },
    {
     "name": "stderr",
     "output_type": "stream",
     "text": [
      "WARNING: In /tmp/SimpleITK-build/ITK/Modules/IO/NIFTI/src/itkNiftiImageIO.cxx, line 2008\n",
      "NiftiImageIO (0x3ceeeae0): nnUNet_raw/Dataset027_ACDC/imagesTs/patient111_frame07_0000.nii.gz has unexpected scales in sform\n",
      "\n",
      "WARNING: In /tmp/SimpleITK-build/ITK/Modules/IO/NIFTI/src/itkNiftiImageIO.cxx, line 2008\n",
      "NiftiImageIO (0x3ceeeae0): nnUNet_raw/Dataset027_ACDC/imagesTs/patient111_frame07_0000.nii.gz has unexpected scales in sform\n",
      "\n",
      "WARNING: In /tmp/SimpleITK-build/ITK/Modules/IO/NIFTI/src/itkNiftiImageIO.cxx, line 2008\n",
      "NiftiImageIO (0x39e5d290): nnUNet_raw/Dataset027_ACDC/imagesTs/patient112_frame01_0000.nii.gz has unexpected scales in sform\n",
      "\n",
      "WARNING: In /tmp/SimpleITK-build/ITK/Modules/IO/NIFTI/src/itkNiftiImageIO.cxx, line 2008\n",
      "NiftiImageIO (0x39e5d290): nnUNet_raw/Dataset027_ACDC/imagesTs/patient112_frame01_0000.nii.gz has unexpected scales in sform\n",
      "\n"
     ]
    },
    {
     "name": "stdout",
     "output_type": "stream",
     "text": [
      "sending off prediction to background worker for resampling and export\n",
      "done with patient109_frame01\n",
      "\n",
      "Predicting patient109_frame10:\n",
      "perform_everything_on_device: True\n",
      "sending off prediction to background worker for resampling and export\n",
      "done with patient109_frame10\n",
      "\n",
      "Predicting patient110_frame01:\n",
      "perform_everything_on_device: True\n",
      "sending off prediction to background worker for resampling and export\n",
      "done with patient110_frame01\n",
      "\n",
      "Predicting patient110_frame11:\n",
      "perform_everything_on_device: True\n"
     ]
    },
    {
     "name": "stderr",
     "output_type": "stream",
     "text": [
      "WARNING: In /tmp/SimpleITK-build/ITK/Modules/IO/NIFTI/src/itkNiftiImageIO.cxx, line 2008\n",
      "NiftiImageIO (0x29e38f20): nnUNet_raw/Dataset027_ACDC/imagesTs/patient112_frame12_0000.nii.gz has unexpected scales in sform\n",
      "\n",
      "WARNING: In /tmp/SimpleITK-build/ITK/Modules/IO/NIFTI/src/itkNiftiImageIO.cxx, line 2008\n",
      "NiftiImageIO (0x29e38f20): nnUNet_raw/Dataset027_ACDC/imagesTs/patient112_frame12_0000.nii.gz has unexpected scales in sform\n",
      "\n",
      "WARNING: In /tmp/SimpleITK-build/ITK/Modules/IO/NIFTI/src/itkNiftiImageIO.cxx, line 2008\n",
      "NiftiImageIO (0x3cbb2ec0): nnUNet_raw/Dataset027_ACDC/imagesTs/patient113_frame01_0000.nii.gz has unexpected scales in sform\n",
      "\n",
      "WARNING: In /tmp/SimpleITK-build/ITK/Modules/IO/NIFTI/src/itkNiftiImageIO.cxx, line 2008\n",
      "NiftiImageIO (0x3cbb2ec0): nnUNet_raw/Dataset027_ACDC/imagesTs/patient113_frame01_0000.nii.gz has unexpected scales in sform\n",
      "\n",
      "WARNING: In /tmp/SimpleITK-build/ITK/Modules/IO/NIFTI/src/itkNiftiImageIO.cxx, line 2008\n",
      "NiftiImageIO (0x39b205d0): nnUNet_raw/Dataset027_ACDC/imagesTs/patient113_frame08_0000.nii.gz has unexpected scales in sform\n",
      "\n",
      "WARNING: In /tmp/SimpleITK-build/ITK/Modules/IO/NIFTI/src/itkNiftiImageIO.cxx, line 2008\n",
      "NiftiImageIO (0x39b205d0): nnUNet_raw/Dataset027_ACDC/imagesTs/patient113_frame08_0000.nii.gz has unexpected scales in sform\n",
      "\n"
     ]
    },
    {
     "name": "stdout",
     "output_type": "stream",
     "text": [
      "sending off prediction to background worker for resampling and export\n",
      "done with patient110_frame11\n",
      "\n",
      "Predicting patient111_frame01:\n",
      "perform_everything_on_device: True\n",
      "sending off prediction to background worker for resampling and export\n",
      "done with patient111_frame01\n",
      "\n",
      "Predicting patient111_frame07:\n",
      "perform_everything_on_device: True\n",
      "sending off prediction to background worker for resampling and export\n",
      "done with patient111_frame07\n",
      "\n",
      "Predicting patient112_frame01:\n",
      "perform_everything_on_device: True\n"
     ]
    },
    {
     "name": "stderr",
     "output_type": "stream",
     "text": [
      "WARNING: In /tmp/SimpleITK-build/ITK/Modules/IO/NIFTI/src/itkNiftiImageIO.cxx, line 2008\n",
      "NiftiImageIO (0x29d12df0): nnUNet_raw/Dataset027_ACDC/imagesTs/patient114_frame01_0000.nii.gz has unexpected scales in sform\n",
      "\n",
      "WARNING: In /tmp/SimpleITK-build/ITK/Modules/IO/NIFTI/src/itkNiftiImageIO.cxx, line 2008\n",
      "NiftiImageIO (0x29d12df0): nnUNet_raw/Dataset027_ACDC/imagesTs/patient114_frame01_0000.nii.gz has unexpected scales in sform\n",
      "\n",
      "WARNING: In /tmp/SimpleITK-build/ITK/Modules/IO/NIFTI/src/itkNiftiImageIO.cxx, line 2008\n",
      "NiftiImageIO (0x3ceeeae0): nnUNet_raw/Dataset027_ACDC/imagesTs/patient114_frame11_0000.nii.gz has unexpected scales in sform\n",
      "\n",
      "WARNING: In /tmp/SimpleITK-build/ITK/Modules/IO/NIFTI/src/itkNiftiImageIO.cxx, line 2008\n",
      "NiftiImageIO (0x3ceeeae0): nnUNet_raw/Dataset027_ACDC/imagesTs/patient114_frame11_0000.nii.gz has unexpected scales in sform\n",
      "\n",
      "WARNING: In /tmp/SimpleITK-build/ITK/Modules/IO/NIFTI/src/itkNiftiImageIO.cxx, line 2008\n",
      "NiftiImageIO (0x39e5d290): nnUNet_raw/Dataset027_ACDC/imagesTs/patient115_frame01_0000.nii.gz has unexpected scales in sform\n",
      "\n",
      "WARNING: In /tmp/SimpleITK-build/ITK/Modules/IO/NIFTI/src/itkNiftiImageIO.cxx, line 2008\n",
      "NiftiImageIO (0x39e5d290): nnUNet_raw/Dataset027_ACDC/imagesTs/patient115_frame01_0000.nii.gz has unexpected scales in sform\n",
      "\n"
     ]
    },
    {
     "name": "stdout",
     "output_type": "stream",
     "text": [
      "sending off prediction to background worker for resampling and export\n",
      "done with patient112_frame01\n",
      "\n",
      "Predicting patient112_frame12:\n",
      "perform_everything_on_device: True\n",
      "sending off prediction to background worker for resampling and export\n",
      "done with patient112_frame12\n",
      "\n",
      "Predicting patient113_frame01:\n",
      "perform_everything_on_device: True\n"
     ]
    },
    {
     "name": "stderr",
     "output_type": "stream",
     "text": [
      "WARNING: In /tmp/SimpleITK-build/ITK/Modules/IO/NIFTI/src/itkNiftiImageIO.cxx, line 2008\n",
      "NiftiImageIO (0x29e38f20): nnUNet_raw/Dataset027_ACDC/imagesTs/patient115_frame13_0000.nii.gz has unexpected scales in sform\n",
      "\n",
      "WARNING: In /tmp/SimpleITK-build/ITK/Modules/IO/NIFTI/src/itkNiftiImageIO.cxx, line 2008\n",
      "NiftiImageIO (0x29e38f20): nnUNet_raw/Dataset027_ACDC/imagesTs/patient115_frame13_0000.nii.gz has unexpected scales in sform\n",
      "\n",
      "WARNING: In /tmp/SimpleITK-build/ITK/Modules/IO/NIFTI/src/itkNiftiImageIO.cxx, line 2008\n",
      "NiftiImageIO (0x3cbb2ec0): nnUNet_raw/Dataset027_ACDC/imagesTs/patient116_frame01_0000.nii.gz has unexpected scales in sform\n",
      "\n",
      "WARNING: In /tmp/SimpleITK-build/ITK/Modules/IO/NIFTI/src/itkNiftiImageIO.cxx, line 2008\n",
      "NiftiImageIO (0x3cbb2ec0): nnUNet_raw/Dataset027_ACDC/imagesTs/patient116_frame01_0000.nii.gz has unexpected scales in sform\n",
      "\n"
     ]
    },
    {
     "name": "stdout",
     "output_type": "stream",
     "text": [
      "sending off prediction to background worker for resampling and export\n",
      "done with patient113_frame01\n",
      "\n",
      "Predicting patient113_frame08:\n",
      "perform_everything_on_device: True\n",
      "sending off prediction to background worker for resampling and export\n",
      "done with patient113_frame08\n",
      "\n",
      "Predicting patient114_frame01:\n",
      "perform_everything_on_device: True\n"
     ]
    },
    {
     "name": "stderr",
     "output_type": "stream",
     "text": [
      "WARNING: In /tmp/SimpleITK-build/ITK/Modules/IO/NIFTI/src/itkNiftiImageIO.cxx, line 2008\n",
      "NiftiImageIO (0x39b205d0): nnUNet_raw/Dataset027_ACDC/imagesTs/patient116_frame09_0000.nii.gz has unexpected scales in sform\n",
      "\n",
      "WARNING: In /tmp/SimpleITK-build/ITK/Modules/IO/NIFTI/src/itkNiftiImageIO.cxx, line 2008\n",
      "NiftiImageIO (0x39b205d0): nnUNet_raw/Dataset027_ACDC/imagesTs/patient116_frame09_0000.nii.gz has unexpected scales in sform\n",
      "\n",
      "WARNING: In /tmp/SimpleITK-build/ITK/Modules/IO/NIFTI/src/itkNiftiImageIO.cxx, line 2008\n",
      "NiftiImageIO (0x29d12df0): nnUNet_raw/Dataset027_ACDC/imagesTs/patient117_frame01_0000.nii.gz has unexpected scales in sform\n",
      "\n",
      "WARNING: In /tmp/SimpleITK-build/ITK/Modules/IO/NIFTI/src/itkNiftiImageIO.cxx, line 2008\n",
      "NiftiImageIO (0x29d12df0): nnUNet_raw/Dataset027_ACDC/imagesTs/patient117_frame01_0000.nii.gz has unexpected scales in sform\n",
      "\n"
     ]
    },
    {
     "name": "stdout",
     "output_type": "stream",
     "text": [
      "sending off prediction to background worker for resampling and export\n",
      "done with patient114_frame01\n",
      "\n",
      "Predicting patient114_frame11:\n",
      "perform_everything_on_device: True\n",
      "sending off prediction to background worker for resampling and export\n",
      "done with patient114_frame11\n",
      "\n",
      "Predicting patient115_frame01:\n",
      "perform_everything_on_device: True\n"
     ]
    },
    {
     "name": "stderr",
     "output_type": "stream",
     "text": [
      "WARNING: In /tmp/SimpleITK-build/ITK/Modules/IO/NIFTI/src/itkNiftiImageIO.cxx, line 2008\n",
      "NiftiImageIO (0x3ceeeae0): nnUNet_raw/Dataset027_ACDC/imagesTs/patient117_frame13_0000.nii.gz has unexpected scales in sform\n",
      "\n",
      "WARNING: In /tmp/SimpleITK-build/ITK/Modules/IO/NIFTI/src/itkNiftiImageIO.cxx, line 2008\n",
      "NiftiImageIO (0x3ceeeae0): nnUNet_raw/Dataset027_ACDC/imagesTs/patient117_frame13_0000.nii.gz has unexpected scales in sform\n",
      "\n",
      "WARNING: In /tmp/SimpleITK-build/ITK/Modules/IO/NIFTI/src/itkNiftiImageIO.cxx, line 2008\n",
      "NiftiImageIO (0x39e5d290): nnUNet_raw/Dataset027_ACDC/imagesTs/patient118_frame01_0000.nii.gz has unexpected scales in sform\n",
      "\n",
      "WARNING: In /tmp/SimpleITK-build/ITK/Modules/IO/NIFTI/src/itkNiftiImageIO.cxx, line 2008\n",
      "NiftiImageIO (0x39e5d290): nnUNet_raw/Dataset027_ACDC/imagesTs/patient118_frame01_0000.nii.gz has unexpected scales in sform\n",
      "\n"
     ]
    },
    {
     "name": "stdout",
     "output_type": "stream",
     "text": [
      "sending off prediction to background worker for resampling and export\n",
      "done with patient115_frame01\n",
      "\n",
      "Predicting patient115_frame13:\n",
      "perform_everything_on_device: True\n",
      "sending off prediction to background worker for resampling and export\n",
      "done with patient115_frame13\n",
      "\n",
      "Predicting patient116_frame01:\n",
      "perform_everything_on_device: True\n"
     ]
    },
    {
     "name": "stderr",
     "output_type": "stream",
     "text": [
      "WARNING: In /tmp/SimpleITK-build/ITK/Modules/IO/NIFTI/src/itkNiftiImageIO.cxx, line 2008\n",
      "NiftiImageIO (0x29e38f20): nnUNet_raw/Dataset027_ACDC/imagesTs/patient118_frame10_0000.nii.gz has unexpected scales in sform\n",
      "\n",
      "WARNING: In /tmp/SimpleITK-build/ITK/Modules/IO/NIFTI/src/itkNiftiImageIO.cxx, line 2008\n",
      "NiftiImageIO (0x29e38f20): nnUNet_raw/Dataset027_ACDC/imagesTs/patient118_frame10_0000.nii.gz has unexpected scales in sform\n",
      "\n",
      "WARNING: In /tmp/SimpleITK-build/ITK/Modules/IO/NIFTI/src/itkNiftiImageIO.cxx, line 2008\n",
      "NiftiImageIO (0x3cbb2ec0): nnUNet_raw/Dataset027_ACDC/imagesTs/patient119_frame01_0000.nii.gz has unexpected scales in sform\n",
      "\n",
      "WARNING: In /tmp/SimpleITK-build/ITK/Modules/IO/NIFTI/src/itkNiftiImageIO.cxx, line 2008\n",
      "NiftiImageIO (0x3cbb2ec0): nnUNet_raw/Dataset027_ACDC/imagesTs/patient119_frame01_0000.nii.gz has unexpected scales in sform\n",
      "\n"
     ]
    },
    {
     "name": "stdout",
     "output_type": "stream",
     "text": [
      "sending off prediction to background worker for resampling and export\n",
      "done with patient116_frame01\n",
      "\n",
      "Predicting patient116_frame09:\n",
      "perform_everything_on_device: True\n",
      "sending off prediction to background worker for resampling and export\n",
      "done with patient116_frame09\n",
      "\n",
      "Predicting patient117_frame01:\n",
      "perform_everything_on_device: True\n"
     ]
    },
    {
     "name": "stderr",
     "output_type": "stream",
     "text": [
      "WARNING: In /tmp/SimpleITK-build/ITK/Modules/IO/NIFTI/src/itkNiftiImageIO.cxx, line 2008\n",
      "NiftiImageIO (0x39b205d0): nnUNet_raw/Dataset027_ACDC/imagesTs/patient119_frame09_0000.nii.gz has unexpected scales in sform\n",
      "\n",
      "WARNING: In /tmp/SimpleITK-build/ITK/Modules/IO/NIFTI/src/itkNiftiImageIO.cxx, line 2008\n",
      "NiftiImageIO (0x39b205d0): nnUNet_raw/Dataset027_ACDC/imagesTs/patient119_frame09_0000.nii.gz has unexpected scales in sform\n",
      "\n",
      "WARNING: In /tmp/SimpleITK-build/ITK/Modules/IO/NIFTI/src/itkNiftiImageIO.cxx, line 2008\n",
      "NiftiImageIO (0x29d12df0): nnUNet_raw/Dataset027_ACDC/imagesTs/patient120_frame01_0000.nii.gz has unexpected scales in sform\n",
      "\n",
      "WARNING: In /tmp/SimpleITK-build/ITK/Modules/IO/NIFTI/src/itkNiftiImageIO.cxx, line 2008\n",
      "NiftiImageIO (0x29d12df0): nnUNet_raw/Dataset027_ACDC/imagesTs/patient120_frame01_0000.nii.gz has unexpected scales in sform\n",
      "\n"
     ]
    },
    {
     "name": "stdout",
     "output_type": "stream",
     "text": [
      "sending off prediction to background worker for resampling and export\n",
      "done with patient117_frame01\n",
      "\n",
      "Predicting patient117_frame13:\n",
      "perform_everything_on_device: True\n",
      "sending off prediction to background worker for resampling and export\n",
      "done with patient117_frame13\n",
      "\n",
      "Predicting patient118_frame01:\n",
      "perform_everything_on_device: True\n"
     ]
    },
    {
     "name": "stderr",
     "output_type": "stream",
     "text": [
      "WARNING: In /tmp/SimpleITK-build/ITK/Modules/IO/NIFTI/src/itkNiftiImageIO.cxx, line 2008\n",
      "NiftiImageIO (0x3ceeeae0): nnUNet_raw/Dataset027_ACDC/imagesTs/patient120_frame08_0000.nii.gz has unexpected scales in sform\n",
      "\n",
      "WARNING: In /tmp/SimpleITK-build/ITK/Modules/IO/NIFTI/src/itkNiftiImageIO.cxx, line 2008\n",
      "NiftiImageIO (0x3ceeeae0): nnUNet_raw/Dataset027_ACDC/imagesTs/patient120_frame08_0000.nii.gz has unexpected scales in sform\n",
      "\n",
      "WARNING: In /tmp/SimpleITK-build/ITK/Modules/IO/NIFTI/src/itkNiftiImageIO.cxx, line 2008\n",
      "NiftiImageIO (0x39e5d290): nnUNet_raw/Dataset027_ACDC/imagesTs/patient121_frame01_0000.nii.gz has unexpected scales in sform\n",
      "\n",
      "WARNING: In /tmp/SimpleITK-build/ITK/Modules/IO/NIFTI/src/itkNiftiImageIO.cxx, line 2008\n",
      "NiftiImageIO (0x39e5d290): nnUNet_raw/Dataset027_ACDC/imagesTs/patient121_frame01_0000.nii.gz has unexpected scales in sform\n",
      "\n"
     ]
    },
    {
     "name": "stdout",
     "output_type": "stream",
     "text": [
      "sending off prediction to background worker for resampling and export\n",
      "done with patient118_frame01\n",
      "\n",
      "Predicting patient118_frame10:\n",
      "perform_everything_on_device: True\n",
      "sending off prediction to background worker for resampling and export\n",
      "done with patient118_frame10\n",
      "\n",
      "Predicting patient119_frame01:\n",
      "perform_everything_on_device: True\n"
     ]
    },
    {
     "name": "stderr",
     "output_type": "stream",
     "text": [
      "WARNING: In /tmp/SimpleITK-build/ITK/Modules/IO/NIFTI/src/itkNiftiImageIO.cxx, line 2008\n",
      "NiftiImageIO (0x29e38f20): nnUNet_raw/Dataset027_ACDC/imagesTs/patient121_frame10_0000.nii.gz has unexpected scales in sform\n",
      "\n",
      "WARNING: In /tmp/SimpleITK-build/ITK/Modules/IO/NIFTI/src/itkNiftiImageIO.cxx, line 2008\n",
      "NiftiImageIO (0x29e38f20): nnUNet_raw/Dataset027_ACDC/imagesTs/patient121_frame10_0000.nii.gz has unexpected scales in sform\n",
      "\n",
      "WARNING: In /tmp/SimpleITK-build/ITK/Modules/IO/NIFTI/src/itkNiftiImageIO.cxx, line 2008\n",
      "NiftiImageIO (0x3cbb2ec0): nnUNet_raw/Dataset027_ACDC/imagesTs/patient122_frame01_0000.nii.gz has unexpected scales in sform\n",
      "\n",
      "WARNING: In /tmp/SimpleITK-build/ITK/Modules/IO/NIFTI/src/itkNiftiImageIO.cxx, line 2008\n",
      "NiftiImageIO (0x3cbb2ec0): nnUNet_raw/Dataset027_ACDC/imagesTs/patient122_frame01_0000.nii.gz has unexpected scales in sform\n",
      "\n"
     ]
    },
    {
     "name": "stdout",
     "output_type": "stream",
     "text": [
      "sending off prediction to background worker for resampling and export\n",
      "done with patient119_frame01\n",
      "\n",
      "Predicting patient119_frame09:\n",
      "perform_everything_on_device: True\n",
      "sending off prediction to background worker for resampling and export\n",
      "done with patient119_frame09\n",
      "\n",
      "Predicting patient120_frame01:\n",
      "perform_everything_on_device: True\n"
     ]
    },
    {
     "name": "stderr",
     "output_type": "stream",
     "text": [
      "WARNING: In /tmp/SimpleITK-build/ITK/Modules/IO/NIFTI/src/itkNiftiImageIO.cxx, line 2008\n",
      "NiftiImageIO (0x39b205d0): nnUNet_raw/Dataset027_ACDC/imagesTs/patient122_frame06_0000.nii.gz has unexpected scales in sform\n",
      "\n",
      "WARNING: In /tmp/SimpleITK-build/ITK/Modules/IO/NIFTI/src/itkNiftiImageIO.cxx, line 2008\n",
      "NiftiImageIO (0x39b205d0): nnUNet_raw/Dataset027_ACDC/imagesTs/patient122_frame06_0000.nii.gz has unexpected scales in sform\n",
      "\n",
      "WARNING: In /tmp/SimpleITK-build/ITK/Modules/IO/NIFTI/src/itkNiftiImageIO.cxx, line 2008\n",
      "NiftiImageIO (0x29d12df0): nnUNet_raw/Dataset027_ACDC/imagesTs/patient123_frame01_0000.nii.gz has unexpected scales in sform\n",
      "\n",
      "WARNING: In /tmp/SimpleITK-build/ITK/Modules/IO/NIFTI/src/itkNiftiImageIO.cxx, line 2008\n",
      "NiftiImageIO (0x29d12df0): nnUNet_raw/Dataset027_ACDC/imagesTs/patient123_frame01_0000.nii.gz has unexpected scales in sform\n",
      "\n"
     ]
    },
    {
     "name": "stdout",
     "output_type": "stream",
     "text": [
      "sending off prediction to background worker for resampling and export\n",
      "done with patient120_frame01\n",
      "\n",
      "Predicting patient120_frame08:\n",
      "perform_everything_on_device: True\n",
      "sending off prediction to background worker for resampling and export\n",
      "done with patient120_frame08\n",
      "\n",
      "Predicting patient121_frame01:\n",
      "perform_everything_on_device: True\n"
     ]
    },
    {
     "name": "stderr",
     "output_type": "stream",
     "text": [
      "WARNING: In /tmp/SimpleITK-build/ITK/Modules/IO/NIFTI/src/itkNiftiImageIO.cxx, line 2008\n",
      "NiftiImageIO (0x3ceeeae0): nnUNet_raw/Dataset027_ACDC/imagesTs/patient123_frame11_0000.nii.gz has unexpected scales in sform\n",
      "\n",
      "WARNING: In /tmp/SimpleITK-build/ITK/Modules/IO/NIFTI/src/itkNiftiImageIO.cxx, line 2008\n",
      "NiftiImageIO (0x3ceeeae0): nnUNet_raw/Dataset027_ACDC/imagesTs/patient123_frame11_0000.nii.gz has unexpected scales in sform\n",
      "\n",
      "WARNING: In /tmp/SimpleITK-build/ITK/Modules/IO/NIFTI/src/itkNiftiImageIO.cxx, line 2008\n",
      "NiftiImageIO (0x39e5d290): nnUNet_raw/Dataset027_ACDC/imagesTs/patient124_frame01_0000.nii.gz has unexpected scales in sform\n",
      "\n",
      "WARNING: In /tmp/SimpleITK-build/ITK/Modules/IO/NIFTI/src/itkNiftiImageIO.cxx, line 2008\n",
      "NiftiImageIO (0x39e5d290): nnUNet_raw/Dataset027_ACDC/imagesTs/patient124_frame01_0000.nii.gz has unexpected scales in sform\n",
      "\n"
     ]
    },
    {
     "name": "stdout",
     "output_type": "stream",
     "text": [
      "sending off prediction to background worker for resampling and export\n",
      "done with patient121_frame01\n",
      "\n",
      "Predicting patient121_frame10:\n",
      "perform_everything_on_device: True\n",
      "sending off prediction to background worker for resampling and export\n",
      "done with patient121_frame10\n",
      "\n",
      "Predicting patient122_frame01:\n",
      "perform_everything_on_device: True\n"
     ]
    },
    {
     "name": "stderr",
     "output_type": "stream",
     "text": [
      "WARNING: In /tmp/SimpleITK-build/ITK/Modules/IO/NIFTI/src/itkNiftiImageIO.cxx, line 2008\n",
      "NiftiImageIO (0x29e38f20): nnUNet_raw/Dataset027_ACDC/imagesTs/patient124_frame07_0000.nii.gz has unexpected scales in sform\n",
      "\n",
      "WARNING: In /tmp/SimpleITK-build/ITK/Modules/IO/NIFTI/src/itkNiftiImageIO.cxx, line 2008\n",
      "NiftiImageIO (0x29e38f20): nnUNet_raw/Dataset027_ACDC/imagesTs/patient124_frame07_0000.nii.gz has unexpected scales in sform\n",
      "\n",
      "WARNING: In /tmp/SimpleITK-build/ITK/Modules/IO/NIFTI/src/itkNiftiImageIO.cxx, line 2008\n",
      "NiftiImageIO (0x3cbb2ec0): nnUNet_raw/Dataset027_ACDC/imagesTs/patient125_frame01_0000.nii.gz has unexpected scales in sform\n",
      "\n",
      "WARNING: In /tmp/SimpleITK-build/ITK/Modules/IO/NIFTI/src/itkNiftiImageIO.cxx, line 2008\n",
      "NiftiImageIO (0x3cbb2ec0): nnUNet_raw/Dataset027_ACDC/imagesTs/patient125_frame01_0000.nii.gz has unexpected scales in sform\n",
      "\n"
     ]
    },
    {
     "name": "stdout",
     "output_type": "stream",
     "text": [
      "sending off prediction to background worker for resampling and export\n",
      "done with patient122_frame01\n",
      "\n",
      "Predicting patient122_frame06:\n",
      "perform_everything_on_device: True\n",
      "sending off prediction to background worker for resampling and export\n",
      "done with patient122_frame06\n",
      "\n",
      "Predicting patient123_frame01:\n",
      "perform_everything_on_device: True\n",
      "sending off prediction to background worker for resampling and export\n",
      "done with patient123_frame01\n",
      "\n",
      "Predicting patient123_frame11:\n",
      "perform_everything_on_device: True\n"
     ]
    },
    {
     "name": "stderr",
     "output_type": "stream",
     "text": [
      "WARNING: In /tmp/SimpleITK-build/ITK/Modules/IO/NIFTI/src/itkNiftiImageIO.cxx, line 2008\n",
      "NiftiImageIO (0x39b205d0): nnUNet_raw/Dataset027_ACDC/imagesTs/patient125_frame07_0000.nii.gz has unexpected scales in sform\n",
      "\n",
      "WARNING: In /tmp/SimpleITK-build/ITK/Modules/IO/NIFTI/src/itkNiftiImageIO.cxx, line 2008\n",
      "NiftiImageIO (0x39b205d0): nnUNet_raw/Dataset027_ACDC/imagesTs/patient125_frame07_0000.nii.gz has unexpected scales in sform\n",
      "\n",
      "WARNING: In /tmp/SimpleITK-build/ITK/Modules/IO/NIFTI/src/itkNiftiImageIO.cxx, line 2008\n",
      "NiftiImageIO (0x29d12df0): nnUNet_raw/Dataset027_ACDC/imagesTs/patient126_frame01_0000.nii.gz has unexpected scales in sform\n",
      "\n",
      "WARNING: In /tmp/SimpleITK-build/ITK/Modules/IO/NIFTI/src/itkNiftiImageIO.cxx, line 2008\n",
      "NiftiImageIO (0x29d12df0): nnUNet_raw/Dataset027_ACDC/imagesTs/patient126_frame01_0000.nii.gz has unexpected scales in sform\n",
      "\n",
      "WARNING: In /tmp/SimpleITK-build/ITK/Modules/IO/NIFTI/src/itkNiftiImageIO.cxx, line 2008\n",
      "NiftiImageIO (0x3ceeeae0): nnUNet_raw/Dataset027_ACDC/imagesTs/patient126_frame07_0000.nii.gz has unexpected scales in sform\n",
      "\n",
      "WARNING: In /tmp/SimpleITK-build/ITK/Modules/IO/NIFTI/src/itkNiftiImageIO.cxx, line 2008\n",
      "NiftiImageIO (0x3ceeeae0): nnUNet_raw/Dataset027_ACDC/imagesTs/patient126_frame07_0000.nii.gz has unexpected scales in sform\n",
      "\n"
     ]
    },
    {
     "name": "stdout",
     "output_type": "stream",
     "text": [
      "sending off prediction to background worker for resampling and export\n",
      "done with patient123_frame11\n",
      "\n",
      "Predicting patient124_frame01:\n",
      "perform_everything_on_device: True\n",
      "sending off prediction to background worker for resampling and export\n",
      "done with patient124_frame01\n",
      "\n",
      "Predicting patient124_frame07:\n",
      "perform_everything_on_device: True\n"
     ]
    },
    {
     "name": "stderr",
     "output_type": "stream",
     "text": [
      "WARNING: In /tmp/SimpleITK-build/ITK/Modules/IO/NIFTI/src/itkNiftiImageIO.cxx, line 2008\n",
      "NiftiImageIO (0x39e5d290): nnUNet_raw/Dataset027_ACDC/imagesTs/patient127_frame01_0000.nii.gz has unexpected scales in sform\n",
      "\n",
      "WARNING: In /tmp/SimpleITK-build/ITK/Modules/IO/NIFTI/src/itkNiftiImageIO.cxx, line 2008\n",
      "NiftiImageIO (0x39e5d290): nnUNet_raw/Dataset027_ACDC/imagesTs/patient127_frame01_0000.nii.gz has unexpected scales in sform\n",
      "\n",
      "WARNING: In /tmp/SimpleITK-build/ITK/Modules/IO/NIFTI/src/itkNiftiImageIO.cxx, line 2008\n",
      "NiftiImageIO (0x29e38f20): nnUNet_raw/Dataset027_ACDC/imagesTs/patient127_frame07_0000.nii.gz has unexpected scales in sform\n",
      "\n",
      "WARNING: In /tmp/SimpleITK-build/ITK/Modules/IO/NIFTI/src/itkNiftiImageIO.cxx, line 2008\n",
      "NiftiImageIO (0x29e38f20): nnUNet_raw/Dataset027_ACDC/imagesTs/patient127_frame07_0000.nii.gz has unexpected scales in sform\n",
      "\n"
     ]
    },
    {
     "name": "stdout",
     "output_type": "stream",
     "text": [
      "sending off prediction to background worker for resampling and export\n",
      "done with patient124_frame07\n",
      "\n",
      "Predicting patient125_frame01:\n",
      "perform_everything_on_device: True\n",
      "sending off prediction to background worker for resampling and export\n",
      "done with patient125_frame01\n",
      "\n",
      "Predicting patient125_frame07:\n",
      "perform_everything_on_device: True\n"
     ]
    },
    {
     "name": "stderr",
     "output_type": "stream",
     "text": [
      "WARNING: In /tmp/SimpleITK-build/ITK/Modules/IO/NIFTI/src/itkNiftiImageIO.cxx, line 2008\n",
      "NiftiImageIO (0x3cbb2ec0): nnUNet_raw/Dataset027_ACDC/imagesTs/patient128_frame01_0000.nii.gz has unexpected scales in sform\n",
      "\n",
      "WARNING: In /tmp/SimpleITK-build/ITK/Modules/IO/NIFTI/src/itkNiftiImageIO.cxx, line 2008\n",
      "NiftiImageIO (0x3cbb2ec0): nnUNet_raw/Dataset027_ACDC/imagesTs/patient128_frame01_0000.nii.gz has unexpected scales in sform\n",
      "\n",
      "WARNING: In /tmp/SimpleITK-build/ITK/Modules/IO/NIFTI/src/itkNiftiImageIO.cxx, line 2008\n",
      "NiftiImageIO (0x39b205d0): nnUNet_raw/Dataset027_ACDC/imagesTs/patient128_frame11_0000.nii.gz has unexpected scales in sform\n",
      "\n",
      "WARNING: In /tmp/SimpleITK-build/ITK/Modules/IO/NIFTI/src/itkNiftiImageIO.cxx, line 2008\n",
      "NiftiImageIO (0x39b205d0): nnUNet_raw/Dataset027_ACDC/imagesTs/patient128_frame11_0000.nii.gz has unexpected scales in sform\n",
      "\n"
     ]
    },
    {
     "name": "stdout",
     "output_type": "stream",
     "text": [
      "sending off prediction to background worker for resampling and export\n",
      "done with patient125_frame07\n",
      "\n",
      "Predicting patient126_frame01:\n",
      "perform_everything_on_device: True\n",
      "sending off prediction to background worker for resampling and export\n",
      "done with patient126_frame01\n",
      "\n",
      "Predicting patient126_frame07:\n",
      "perform_everything_on_device: True\n"
     ]
    },
    {
     "name": "stderr",
     "output_type": "stream",
     "text": [
      "WARNING: In /tmp/SimpleITK-build/ITK/Modules/IO/NIFTI/src/itkNiftiImageIO.cxx, line 2008\n",
      "NiftiImageIO (0x29d12df0): nnUNet_raw/Dataset027_ACDC/imagesTs/patient129_frame01_0000.nii.gz has unexpected scales in sform\n",
      "\n",
      "WARNING: In /tmp/SimpleITK-build/ITK/Modules/IO/NIFTI/src/itkNiftiImageIO.cxx, line 2008\n",
      "NiftiImageIO (0x29d12df0): nnUNet_raw/Dataset027_ACDC/imagesTs/patient129_frame01_0000.nii.gz has unexpected scales in sform\n",
      "\n",
      "WARNING: In /tmp/SimpleITK-build/ITK/Modules/IO/NIFTI/src/itkNiftiImageIO.cxx, line 2008\n",
      "NiftiImageIO (0x3ceeeae0): nnUNet_raw/Dataset027_ACDC/imagesTs/patient129_frame08_0000.nii.gz has unexpected scales in sform\n",
      "\n",
      "WARNING: In /tmp/SimpleITK-build/ITK/Modules/IO/NIFTI/src/itkNiftiImageIO.cxx, line 2008\n",
      "NiftiImageIO (0x3ceeeae0): nnUNet_raw/Dataset027_ACDC/imagesTs/patient129_frame08_0000.nii.gz has unexpected scales in sform\n",
      "\n"
     ]
    },
    {
     "name": "stdout",
     "output_type": "stream",
     "text": [
      "sending off prediction to background worker for resampling and export\n",
      "done with patient126_frame07\n",
      "\n",
      "Predicting patient127_frame01:\n",
      "perform_everything_on_device: True\n",
      "sending off prediction to background worker for resampling and export\n",
      "done with patient127_frame01\n",
      "\n",
      "Predicting patient127_frame07:\n",
      "perform_everything_on_device: True\n"
     ]
    },
    {
     "name": "stderr",
     "output_type": "stream",
     "text": [
      "WARNING: In /tmp/SimpleITK-build/ITK/Modules/IO/NIFTI/src/itkNiftiImageIO.cxx, line 2008\n",
      "NiftiImageIO (0x39e5d290): nnUNet_raw/Dataset027_ACDC/imagesTs/patient130_frame01_0000.nii.gz has unexpected scales in sform\n",
      "\n",
      "WARNING: In /tmp/SimpleITK-build/ITK/Modules/IO/NIFTI/src/itkNiftiImageIO.cxx, line 2008\n",
      "NiftiImageIO (0x39e5d290): nnUNet_raw/Dataset027_ACDC/imagesTs/patient130_frame01_0000.nii.gz has unexpected scales in sform\n",
      "\n",
      "WARNING: In /tmp/SimpleITK-build/ITK/Modules/IO/NIFTI/src/itkNiftiImageIO.cxx, line 2008\n",
      "NiftiImageIO (0x29e38f20): nnUNet_raw/Dataset027_ACDC/imagesTs/patient130_frame11_0000.nii.gz has unexpected scales in sform\n",
      "\n",
      "WARNING: In /tmp/SimpleITK-build/ITK/Modules/IO/NIFTI/src/itkNiftiImageIO.cxx, line 2008\n",
      "NiftiImageIO (0x29e38f20): nnUNet_raw/Dataset027_ACDC/imagesTs/patient130_frame11_0000.nii.gz has unexpected scales in sform\n",
      "\n"
     ]
    },
    {
     "name": "stdout",
     "output_type": "stream",
     "text": [
      "sending off prediction to background worker for resampling and export\n",
      "done with patient127_frame07\n",
      "\n",
      "Predicting patient128_frame01:\n",
      "perform_everything_on_device: True\n",
      "sending off prediction to background worker for resampling and export\n",
      "done with patient128_frame01\n",
      "\n",
      "Predicting patient128_frame11:\n",
      "perform_everything_on_device: True\n",
      "sending off prediction to background worker for resampling and export\n",
      "done with patient128_frame11\n",
      "\n",
      "Predicting patient129_frame01:\n",
      "perform_everything_on_device: True\n"
     ]
    },
    {
     "name": "stderr",
     "output_type": "stream",
     "text": [
      "WARNING: In /tmp/SimpleITK-build/ITK/Modules/IO/NIFTI/src/itkNiftiImageIO.cxx, line 2008\n",
      "NiftiImageIO (0x3cbb2ec0): nnUNet_raw/Dataset027_ACDC/imagesTs/patient131_frame01_0000.nii.gz has unexpected scales in sform\n",
      "\n",
      "WARNING: In /tmp/SimpleITK-build/ITK/Modules/IO/NIFTI/src/itkNiftiImageIO.cxx, line 2008\n",
      "NiftiImageIO (0x3cbb2ec0): nnUNet_raw/Dataset027_ACDC/imagesTs/patient131_frame01_0000.nii.gz has unexpected scales in sform\n",
      "\n",
      "WARNING: In /tmp/SimpleITK-build/ITK/Modules/IO/NIFTI/src/itkNiftiImageIO.cxx, line 2008\n",
      "NiftiImageIO (0x39b205d0): nnUNet_raw/Dataset027_ACDC/imagesTs/patient131_frame09_0000.nii.gz has unexpected scales in sform\n",
      "\n",
      "WARNING: In /tmp/SimpleITK-build/ITK/Modules/IO/NIFTI/src/itkNiftiImageIO.cxx, line 2008\n",
      "NiftiImageIO (0x39b205d0): nnUNet_raw/Dataset027_ACDC/imagesTs/patient131_frame09_0000.nii.gz has unexpected scales in sform\n",
      "\n",
      "WARNING: In /tmp/SimpleITK-build/ITK/Modules/IO/NIFTI/src/itkNiftiImageIO.cxx, line 2008\n",
      "NiftiImageIO (0x29d12df0): nnUNet_raw/Dataset027_ACDC/imagesTs/patient132_frame01_0000.nii.gz has unexpected scales in sform\n",
      "\n",
      "WARNING: In /tmp/SimpleITK-build/ITK/Modules/IO/NIFTI/src/itkNiftiImageIO.cxx, line 2008\n",
      "NiftiImageIO (0x29d12df0): nnUNet_raw/Dataset027_ACDC/imagesTs/patient132_frame01_0000.nii.gz has unexpected scales in sform\n",
      "\n"
     ]
    },
    {
     "name": "stdout",
     "output_type": "stream",
     "text": [
      "sending off prediction to background worker for resampling and export\n",
      "done with patient129_frame01\n",
      "\n",
      "Predicting patient129_frame08:\n",
      "perform_everything_on_device: True\n",
      "sending off prediction to background worker for resampling and export\n",
      "done with patient129_frame08\n",
      "\n",
      "Predicting patient130_frame01:\n",
      "perform_everything_on_device: True\n"
     ]
    },
    {
     "name": "stderr",
     "output_type": "stream",
     "text": [
      "WARNING: In /tmp/SimpleITK-build/ITK/Modules/IO/NIFTI/src/itkNiftiImageIO.cxx, line 2008\n",
      "NiftiImageIO (0x3ceeeae0): nnUNet_raw/Dataset027_ACDC/imagesTs/patient132_frame15_0000.nii.gz has unexpected scales in sform\n",
      "\n",
      "WARNING: In /tmp/SimpleITK-build/ITK/Modules/IO/NIFTI/src/itkNiftiImageIO.cxx, line 2008\n",
      "NiftiImageIO (0x3ceeeae0): nnUNet_raw/Dataset027_ACDC/imagesTs/patient132_frame15_0000.nii.gz has unexpected scales in sform\n",
      "\n",
      "WARNING: In /tmp/SimpleITK-build/ITK/Modules/IO/NIFTI/src/itkNiftiImageIO.cxx, line 2008\n",
      "NiftiImageIO (0x39e5d290): nnUNet_raw/Dataset027_ACDC/imagesTs/patient133_frame01_0000.nii.gz has unexpected scales in sform\n",
      "\n",
      "WARNING: In /tmp/SimpleITK-build/ITK/Modules/IO/NIFTI/src/itkNiftiImageIO.cxx, line 2008\n",
      "NiftiImageIO (0x39e5d290): nnUNet_raw/Dataset027_ACDC/imagesTs/patient133_frame01_0000.nii.gz has unexpected scales in sform\n",
      "\n"
     ]
    },
    {
     "name": "stdout",
     "output_type": "stream",
     "text": [
      "sending off prediction to background worker for resampling and export\n",
      "done with patient130_frame01\n",
      "\n",
      "Predicting patient130_frame11:\n",
      "perform_everything_on_device: True\n",
      "sending off prediction to background worker for resampling and export\n",
      "done with patient130_frame11\n",
      "\n",
      "Predicting patient131_frame01:\n",
      "perform_everything_on_device: True\n"
     ]
    },
    {
     "name": "stderr",
     "output_type": "stream",
     "text": [
      "WARNING: In /tmp/SimpleITK-build/ITK/Modules/IO/NIFTI/src/itkNiftiImageIO.cxx, line 2008\n",
      "NiftiImageIO (0x29e38f20): nnUNet_raw/Dataset027_ACDC/imagesTs/patient133_frame10_0000.nii.gz has unexpected scales in sform\n",
      "\n",
      "WARNING: In /tmp/SimpleITK-build/ITK/Modules/IO/NIFTI/src/itkNiftiImageIO.cxx, line 2008\n",
      "NiftiImageIO (0x29e38f20): nnUNet_raw/Dataset027_ACDC/imagesTs/patient133_frame10_0000.nii.gz has unexpected scales in sform\n",
      "\n",
      "WARNING: In /tmp/SimpleITK-build/ITK/Modules/IO/NIFTI/src/itkNiftiImageIO.cxx, line 2008\n",
      "NiftiImageIO (0x3cbb2ec0): nnUNet_raw/Dataset027_ACDC/imagesTs/patient134_frame01_0000.nii.gz has unexpected scales in sform\n",
      "\n",
      "WARNING: In /tmp/SimpleITK-build/ITK/Modules/IO/NIFTI/src/itkNiftiImageIO.cxx, line 2008\n",
      "NiftiImageIO (0x3cbb2ec0): nnUNet_raw/Dataset027_ACDC/imagesTs/patient134_frame01_0000.nii.gz has unexpected scales in sform\n",
      "\n"
     ]
    },
    {
     "name": "stdout",
     "output_type": "stream",
     "text": [
      "sending off prediction to background worker for resampling and export\n",
      "done with patient131_frame01\n",
      "\n",
      "Predicting patient131_frame09:\n",
      "perform_everything_on_device: True\n",
      "sending off prediction to background worker for resampling and export\n",
      "done with patient131_frame09\n",
      "\n",
      "Predicting patient132_frame01:\n",
      "perform_everything_on_device: True\n"
     ]
    },
    {
     "name": "stderr",
     "output_type": "stream",
     "text": [
      "WARNING: In /tmp/SimpleITK-build/ITK/Modules/IO/NIFTI/src/itkNiftiImageIO.cxx, line 2008\n",
      "NiftiImageIO (0x39b205d0): nnUNet_raw/Dataset027_ACDC/imagesTs/patient134_frame15_0000.nii.gz has unexpected scales in sform\n",
      "\n",
      "WARNING: In /tmp/SimpleITK-build/ITK/Modules/IO/NIFTI/src/itkNiftiImageIO.cxx, line 2008\n",
      "NiftiImageIO (0x39b205d0): nnUNet_raw/Dataset027_ACDC/imagesTs/patient134_frame15_0000.nii.gz has unexpected scales in sform\n",
      "\n",
      "WARNING: In /tmp/SimpleITK-build/ITK/Modules/IO/NIFTI/src/itkNiftiImageIO.cxx, line 2008\n",
      "NiftiImageIO (0x29d12df0): nnUNet_raw/Dataset027_ACDC/imagesTs/patient135_frame01_0000.nii.gz has unexpected scales in sform\n",
      "\n",
      "WARNING: In /tmp/SimpleITK-build/ITK/Modules/IO/NIFTI/src/itkNiftiImageIO.cxx, line 2008\n",
      "NiftiImageIO (0x29d12df0): nnUNet_raw/Dataset027_ACDC/imagesTs/patient135_frame01_0000.nii.gz has unexpected scales in sform\n",
      "\n"
     ]
    },
    {
     "name": "stdout",
     "output_type": "stream",
     "text": [
      "sending off prediction to background worker for resampling and export\n",
      "done with patient132_frame01\n",
      "\n",
      "Predicting patient132_frame15:\n",
      "perform_everything_on_device: True\n",
      "sending off prediction to background worker for resampling and export\n",
      "done with patient132_frame15\n",
      "\n",
      "Predicting patient133_frame01:\n",
      "perform_everything_on_device: True\n"
     ]
    },
    {
     "name": "stderr",
     "output_type": "stream",
     "text": [
      "WARNING: In /tmp/SimpleITK-build/ITK/Modules/IO/NIFTI/src/itkNiftiImageIO.cxx, line 2008\n",
      "NiftiImageIO (0x3ceeeae0): nnUNet_raw/Dataset027_ACDC/imagesTs/patient135_frame10_0000.nii.gz has unexpected scales in sform\n",
      "\n",
      "WARNING: In /tmp/SimpleITK-build/ITK/Modules/IO/NIFTI/src/itkNiftiImageIO.cxx, line 2008\n",
      "NiftiImageIO (0x3ceeeae0): nnUNet_raw/Dataset027_ACDC/imagesTs/patient135_frame10_0000.nii.gz has unexpected scales in sform\n",
      "\n",
      "WARNING: In /tmp/SimpleITK-build/ITK/Modules/IO/NIFTI/src/itkNiftiImageIO.cxx, line 2008\n",
      "NiftiImageIO (0x39e5d290): nnUNet_raw/Dataset027_ACDC/imagesTs/patient136_frame01_0000.nii.gz has unexpected scales in sform\n",
      "\n",
      "WARNING: In /tmp/SimpleITK-build/ITK/Modules/IO/NIFTI/src/itkNiftiImageIO.cxx, line 2008\n",
      "NiftiImageIO (0x39e5d290): nnUNet_raw/Dataset027_ACDC/imagesTs/patient136_frame01_0000.nii.gz has unexpected scales in sform\n",
      "\n"
     ]
    },
    {
     "name": "stdout",
     "output_type": "stream",
     "text": [
      "sending off prediction to background worker for resampling and export\n",
      "done with patient133_frame01\n",
      "\n",
      "Predicting patient133_frame10:\n",
      "perform_everything_on_device: True\n",
      "sending off prediction to background worker for resampling and export\n",
      "done with patient133_frame10\n",
      "\n",
      "Predicting patient134_frame01:\n",
      "perform_everything_on_device: True\n"
     ]
    },
    {
     "name": "stderr",
     "output_type": "stream",
     "text": [
      "WARNING: In /tmp/SimpleITK-build/ITK/Modules/IO/NIFTI/src/itkNiftiImageIO.cxx, line 2008\n",
      "NiftiImageIO (0x29e38f20): nnUNet_raw/Dataset027_ACDC/imagesTs/patient136_frame12_0000.nii.gz has unexpected scales in sform\n",
      "\n",
      "WARNING: In /tmp/SimpleITK-build/ITK/Modules/IO/NIFTI/src/itkNiftiImageIO.cxx, line 2008\n",
      "NiftiImageIO (0x29e38f20): nnUNet_raw/Dataset027_ACDC/imagesTs/patient136_frame12_0000.nii.gz has unexpected scales in sform\n",
      "\n",
      "WARNING: In /tmp/SimpleITK-build/ITK/Modules/IO/NIFTI/src/itkNiftiImageIO.cxx, line 2008\n",
      "NiftiImageIO (0x3cbb2ec0): nnUNet_raw/Dataset027_ACDC/imagesTs/patient137_frame01_0000.nii.gz has unexpected scales in sform\n",
      "\n",
      "WARNING: In /tmp/SimpleITK-build/ITK/Modules/IO/NIFTI/src/itkNiftiImageIO.cxx, line 2008\n",
      "NiftiImageIO (0x3cbb2ec0): nnUNet_raw/Dataset027_ACDC/imagesTs/patient137_frame01_0000.nii.gz has unexpected scales in sform\n",
      "\n"
     ]
    },
    {
     "name": "stdout",
     "output_type": "stream",
     "text": [
      "sending off prediction to background worker for resampling and export\n",
      "done with patient134_frame01\n",
      "\n",
      "Predicting patient134_frame15:\n",
      "perform_everything_on_device: True\n",
      "sending off prediction to background worker for resampling and export\n",
      "done with patient134_frame15\n",
      "\n",
      "Predicting patient135_frame01:\n",
      "perform_everything_on_device: True\n"
     ]
    },
    {
     "name": "stderr",
     "output_type": "stream",
     "text": [
      "WARNING: In /tmp/SimpleITK-build/ITK/Modules/IO/NIFTI/src/itkNiftiImageIO.cxx, line 2008\n",
      "NiftiImageIO (0x39b205d0): nnUNet_raw/Dataset027_ACDC/imagesTs/patient137_frame11_0000.nii.gz has unexpected scales in sform\n",
      "\n",
      "WARNING: In /tmp/SimpleITK-build/ITK/Modules/IO/NIFTI/src/itkNiftiImageIO.cxx, line 2008\n",
      "NiftiImageIO (0x39b205d0): nnUNet_raw/Dataset027_ACDC/imagesTs/patient137_frame11_0000.nii.gz has unexpected scales in sform\n",
      "\n",
      "WARNING: In /tmp/SimpleITK-build/ITK/Modules/IO/NIFTI/src/itkNiftiImageIO.cxx, line 2008\n",
      "NiftiImageIO (0x29d12df0): nnUNet_raw/Dataset027_ACDC/imagesTs/patient138_frame01_0000.nii.gz has unexpected scales in sform\n",
      "\n",
      "WARNING: In /tmp/SimpleITK-build/ITK/Modules/IO/NIFTI/src/itkNiftiImageIO.cxx, line 2008\n",
      "NiftiImageIO (0x29d12df0): nnUNet_raw/Dataset027_ACDC/imagesTs/patient138_frame01_0000.nii.gz has unexpected scales in sform\n",
      "\n"
     ]
    },
    {
     "name": "stdout",
     "output_type": "stream",
     "text": [
      "sending off prediction to background worker for resampling and export\n",
      "done with patient135_frame01\n",
      "\n",
      "Predicting patient135_frame10:\n",
      "perform_everything_on_device: True\n"
     ]
    },
    {
     "name": "stderr",
     "output_type": "stream",
     "text": [
      "WARNING: In /tmp/SimpleITK-build/ITK/Modules/IO/NIFTI/src/itkNiftiImageIO.cxx, line 2008\n",
      "NiftiImageIO (0x3ceeeae0): nnUNet_raw/Dataset027_ACDC/imagesTs/patient138_frame10_0000.nii.gz has unexpected scales in sform\n",
      "\n",
      "WARNING: In /tmp/SimpleITK-build/ITK/Modules/IO/NIFTI/src/itkNiftiImageIO.cxx, line 2008\n",
      "NiftiImageIO (0x3ceeeae0): nnUNet_raw/Dataset027_ACDC/imagesTs/patient138_frame10_0000.nii.gz has unexpected scales in sform\n",
      "\n"
     ]
    },
    {
     "name": "stdout",
     "output_type": "stream",
     "text": [
      "sending off prediction to background worker for resampling and export\n",
      "done with patient135_frame10\n",
      "\n",
      "Predicting patient136_frame01:\n",
      "perform_everything_on_device: True\n",
      "sending off prediction to background worker for resampling and export\n",
      "done with patient136_frame01\n",
      "\n",
      "Predicting patient136_frame12:\n",
      "perform_everything_on_device: True\n"
     ]
    },
    {
     "name": "stderr",
     "output_type": "stream",
     "text": [
      "WARNING: In /tmp/SimpleITK-build/ITK/Modules/IO/NIFTI/src/itkNiftiImageIO.cxx, line 2008\n",
      "NiftiImageIO (0x39e5d290): nnUNet_raw/Dataset027_ACDC/imagesTs/patient139_frame01_0000.nii.gz has unexpected scales in sform\n",
      "\n",
      "WARNING: In /tmp/SimpleITK-build/ITK/Modules/IO/NIFTI/src/itkNiftiImageIO.cxx, line 2008\n",
      "NiftiImageIO (0x39e5d290): nnUNet_raw/Dataset027_ACDC/imagesTs/patient139_frame01_0000.nii.gz has unexpected scales in sform\n",
      "\n",
      "WARNING: In /tmp/SimpleITK-build/ITK/Modules/IO/NIFTI/src/itkNiftiImageIO.cxx, line 2008\n",
      "NiftiImageIO (0x29e38f20): nnUNet_raw/Dataset027_ACDC/imagesTs/patient139_frame08_0000.nii.gz has unexpected scales in sform\n",
      "\n",
      "WARNING: In /tmp/SimpleITK-build/ITK/Modules/IO/NIFTI/src/itkNiftiImageIO.cxx, line 2008\n",
      "NiftiImageIO (0x29e38f20): nnUNet_raw/Dataset027_ACDC/imagesTs/patient139_frame08_0000.nii.gz has unexpected scales in sform\n",
      "\n"
     ]
    },
    {
     "name": "stdout",
     "output_type": "stream",
     "text": [
      "sending off prediction to background worker for resampling and export\n",
      "done with patient136_frame12\n",
      "\n",
      "Predicting patient137_frame01:\n",
      "perform_everything_on_device: True\n",
      "sending off prediction to background worker for resampling and export\n",
      "done with patient137_frame01\n",
      "\n",
      "Predicting patient137_frame11:\n",
      "perform_everything_on_device: True\n",
      "sending off prediction to background worker for resampling and export\n",
      "done with patient137_frame11\n"
     ]
    },
    {
     "name": "stderr",
     "output_type": "stream",
     "text": [
      "WARNING: In /tmp/SimpleITK-build/ITK/Modules/IO/NIFTI/src/itkNiftiImageIO.cxx, line 2008\n",
      "NiftiImageIO (0x3cbb2ec0): nnUNet_raw/Dataset027_ACDC/imagesTs/patient140_frame01_0000.nii.gz has unexpected scales in sform\n",
      "\n",
      "WARNING: In /tmp/SimpleITK-build/ITK/Modules/IO/NIFTI/src/itkNiftiImageIO.cxx, line 2008\n",
      "NiftiImageIO (0x3cbb2ec0): nnUNet_raw/Dataset027_ACDC/imagesTs/patient140_frame01_0000.nii.gz has unexpected scales in sform\n",
      "\n",
      "WARNING: In /tmp/SimpleITK-build/ITK/Modules/IO/NIFTI/src/itkNiftiImageIO.cxx, line 2008\n",
      "NiftiImageIO (0x39b205d0): nnUNet_raw/Dataset027_ACDC/imagesTs/patient140_frame09_0000.nii.gz has unexpected scales in sform\n",
      "\n",
      "WARNING: In /tmp/SimpleITK-build/ITK/Modules/IO/NIFTI/src/itkNiftiImageIO.cxx, line 2008\n",
      "NiftiImageIO (0x39b205d0): nnUNet_raw/Dataset027_ACDC/imagesTs/patient140_frame09_0000.nii.gz has unexpected scales in sform\n",
      "\n",
      "WARNING: In /tmp/SimpleITK-build/ITK/Modules/IO/NIFTI/src/itkNiftiImageIO.cxx, line 2008\n",
      "NiftiImageIO (0x29d12df0): nnUNet_raw/Dataset027_ACDC/imagesTs/patient141_frame01_0000.nii.gz has unexpected scales in sform\n",
      "\n",
      "WARNING: In /tmp/SimpleITK-build/ITK/Modules/IO/NIFTI/src/itkNiftiImageIO.cxx, line 2008\n",
      "NiftiImageIO (0x29d12df0): nnUNet_raw/Dataset027_ACDC/imagesTs/patient141_frame01_0000.nii.gz has unexpected scales in sform\n",
      "\n"
     ]
    },
    {
     "name": "stdout",
     "output_type": "stream",
     "text": [
      "\n",
      "Predicting patient138_frame01:\n",
      "perform_everything_on_device: True\n",
      "sending off prediction to background worker for resampling and export\n",
      "done with patient138_frame01\n",
      "\n",
      "Predicting patient138_frame10:\n",
      "perform_everything_on_device: True\n",
      "sending off prediction to background worker for resampling and export\n",
      "done with patient138_frame10\n"
     ]
    },
    {
     "name": "stderr",
     "output_type": "stream",
     "text": [
      "WARNING: In /tmp/SimpleITK-build/ITK/Modules/IO/NIFTI/src/itkNiftiImageIO.cxx, line 2008\n",
      "NiftiImageIO (0x3ceeeae0): nnUNet_raw/Dataset027_ACDC/imagesTs/patient141_frame11_0000.nii.gz has unexpected scales in sform\n",
      "\n",
      "WARNING: In /tmp/SimpleITK-build/ITK/Modules/IO/NIFTI/src/itkNiftiImageIO.cxx, line 2008\n",
      "NiftiImageIO (0x3ceeeae0): nnUNet_raw/Dataset027_ACDC/imagesTs/patient141_frame11_0000.nii.gz has unexpected scales in sform\n",
      "\n",
      "WARNING: In /tmp/SimpleITK-build/ITK/Modules/IO/NIFTI/src/itkNiftiImageIO.cxx, line 2008\n",
      "NiftiImageIO (0x39e5d290): nnUNet_raw/Dataset027_ACDC/imagesTs/patient142_frame01_0000.nii.gz has unexpected scales in sform\n",
      "\n",
      "WARNING: In /tmp/SimpleITK-build/ITK/Modules/IO/NIFTI/src/itkNiftiImageIO.cxx, line 2008\n",
      "NiftiImageIO (0x39e5d290): nnUNet_raw/Dataset027_ACDC/imagesTs/patient142_frame01_0000.nii.gz has unexpected scales in sform\n",
      "\n"
     ]
    },
    {
     "name": "stdout",
     "output_type": "stream",
     "text": [
      "\n",
      "Predicting patient139_frame01:\n",
      "perform_everything_on_device: True\n",
      "sending off prediction to background worker for resampling and export\n",
      "done with patient139_frame01\n",
      "\n",
      "Predicting patient139_frame08:\n",
      "perform_everything_on_device: True\n"
     ]
    },
    {
     "name": "stderr",
     "output_type": "stream",
     "text": [
      "WARNING: In /tmp/SimpleITK-build/ITK/Modules/IO/NIFTI/src/itkNiftiImageIO.cxx, line 2008\n",
      "NiftiImageIO (0x29e38f20): nnUNet_raw/Dataset027_ACDC/imagesTs/patient142_frame12_0000.nii.gz has unexpected scales in sform\n",
      "\n",
      "WARNING: In /tmp/SimpleITK-build/ITK/Modules/IO/NIFTI/src/itkNiftiImageIO.cxx, line 2008\n",
      "NiftiImageIO (0x29e38f20): nnUNet_raw/Dataset027_ACDC/imagesTs/patient142_frame12_0000.nii.gz has unexpected scales in sform\n",
      "\n",
      "WARNING: In /tmp/SimpleITK-build/ITK/Modules/IO/NIFTI/src/itkNiftiImageIO.cxx, line 2008\n",
      "NiftiImageIO (0x3cbb2ec0): nnUNet_raw/Dataset027_ACDC/imagesTs/patient143_frame01_0000.nii.gz has unexpected scales in sform\n",
      "\n",
      "WARNING: In /tmp/SimpleITK-build/ITK/Modules/IO/NIFTI/src/itkNiftiImageIO.cxx, line 2008\n",
      "NiftiImageIO (0x3cbb2ec0): nnUNet_raw/Dataset027_ACDC/imagesTs/patient143_frame01_0000.nii.gz has unexpected scales in sform\n",
      "\n"
     ]
    },
    {
     "name": "stdout",
     "output_type": "stream",
     "text": [
      "sending off prediction to background worker for resampling and export\n",
      "done with patient139_frame08\n",
      "\n",
      "Predicting patient140_frame01:\n",
      "perform_everything_on_device: True\n",
      "sending off prediction to background worker for resampling and export\n",
      "done with patient140_frame01\n",
      "\n",
      "Predicting patient140_frame09:\n",
      "perform_everything_on_device: True\n"
     ]
    },
    {
     "name": "stderr",
     "output_type": "stream",
     "text": [
      "WARNING: In /tmp/SimpleITK-build/ITK/Modules/IO/NIFTI/src/itkNiftiImageIO.cxx, line 2008\n",
      "NiftiImageIO (0x39b205d0): nnUNet_raw/Dataset027_ACDC/imagesTs/patient143_frame12_0000.nii.gz has unexpected scales in sform\n",
      "\n",
      "WARNING: In /tmp/SimpleITK-build/ITK/Modules/IO/NIFTI/src/itkNiftiImageIO.cxx, line 2008\n",
      "NiftiImageIO (0x39b205d0): nnUNet_raw/Dataset027_ACDC/imagesTs/patient143_frame12_0000.nii.gz has unexpected scales in sform\n",
      "\n",
      "WARNING: In /tmp/SimpleITK-build/ITK/Modules/IO/NIFTI/src/itkNiftiImageIO.cxx, line 2008\n",
      "NiftiImageIO (0x29d12df0): nnUNet_raw/Dataset027_ACDC/imagesTs/patient144_frame01_0000.nii.gz has unexpected scales in sform\n",
      "\n",
      "WARNING: In /tmp/SimpleITK-build/ITK/Modules/IO/NIFTI/src/itkNiftiImageIO.cxx, line 2008\n",
      "NiftiImageIO (0x29d12df0): nnUNet_raw/Dataset027_ACDC/imagesTs/patient144_frame01_0000.nii.gz has unexpected scales in sform\n",
      "\n"
     ]
    },
    {
     "name": "stdout",
     "output_type": "stream",
     "text": [
      "sending off prediction to background worker for resampling and export\n",
      "done with patient140_frame09\n",
      "\n",
      "Predicting patient141_frame01:\n",
      "perform_everything_on_device: True\n",
      "sending off prediction to background worker for resampling and export\n",
      "done with patient141_frame01\n",
      "\n",
      "Predicting patient141_frame11:\n",
      "perform_everything_on_device: True\n"
     ]
    },
    {
     "name": "stderr",
     "output_type": "stream",
     "text": [
      "WARNING: In /tmp/SimpleITK-build/ITK/Modules/IO/NIFTI/src/itkNiftiImageIO.cxx, line 2008\n",
      "NiftiImageIO (0x3ceeeae0): nnUNet_raw/Dataset027_ACDC/imagesTs/patient144_frame09_0000.nii.gz has unexpected scales in sform\n",
      "\n",
      "WARNING: In /tmp/SimpleITK-build/ITK/Modules/IO/NIFTI/src/itkNiftiImageIO.cxx, line 2008\n",
      "NiftiImageIO (0x3ceeeae0): nnUNet_raw/Dataset027_ACDC/imagesTs/patient144_frame09_0000.nii.gz has unexpected scales in sform\n",
      "\n",
      "WARNING: In /tmp/SimpleITK-build/ITK/Modules/IO/NIFTI/src/itkNiftiImageIO.cxx, line 2008\n",
      "NiftiImageIO (0x39e5d290): nnUNet_raw/Dataset027_ACDC/imagesTs/patient145_frame01_0000.nii.gz has unexpected scales in sform\n",
      "\n",
      "WARNING: In /tmp/SimpleITK-build/ITK/Modules/IO/NIFTI/src/itkNiftiImageIO.cxx, line 2008\n",
      "NiftiImageIO (0x39e5d290): nnUNet_raw/Dataset027_ACDC/imagesTs/patient145_frame01_0000.nii.gz has unexpected scales in sform\n",
      "\n",
      "WARNING: In /tmp/SimpleITK-build/ITK/Modules/IO/NIFTI/src/itkNiftiImageIO.cxx, line 2008\n",
      "NiftiImageIO (0x29e38f20): nnUNet_raw/Dataset027_ACDC/imagesTs/patient145_frame13_0000.nii.gz has unexpected scales in sform\n",
      "\n",
      "WARNING: In /tmp/SimpleITK-build/ITK/Modules/IO/NIFTI/src/itkNiftiImageIO.cxx, line 2008\n",
      "NiftiImageIO (0x29e38f20): nnUNet_raw/Dataset027_ACDC/imagesTs/patient145_frame13_0000.nii.gz has unexpected scales in sform\n",
      "\n"
     ]
    },
    {
     "name": "stdout",
     "output_type": "stream",
     "text": [
      "sending off prediction to background worker for resampling and export\n",
      "done with patient141_frame11\n",
      "\n",
      "Predicting patient142_frame01:\n",
      "perform_everything_on_device: True\n",
      "sending off prediction to background worker for resampling and export\n",
      "done with patient142_frame01\n",
      "\n",
      "Predicting patient142_frame12:\n",
      "perform_everything_on_device: True\n",
      "sending off prediction to background worker for resampling and export\n",
      "done with patient142_frame12\n",
      "\n",
      "Predicting patient143_frame01:\n",
      "perform_everything_on_device: True\n"
     ]
    },
    {
     "name": "stderr",
     "output_type": "stream",
     "text": [
      "WARNING: In /tmp/SimpleITK-build/ITK/Modules/IO/NIFTI/src/itkNiftiImageIO.cxx, line 2008\n",
      "NiftiImageIO (0x3cbb2ec0): nnUNet_raw/Dataset027_ACDC/imagesTs/patient146_frame01_0000.nii.gz has unexpected scales in sform\n",
      "\n",
      "WARNING: In /tmp/SimpleITK-build/ITK/Modules/IO/NIFTI/src/itkNiftiImageIO.cxx, line 2008\n",
      "NiftiImageIO (0x3cbb2ec0): nnUNet_raw/Dataset027_ACDC/imagesTs/patient146_frame01_0000.nii.gz has unexpected scales in sform\n",
      "\n",
      "WARNING: In /tmp/SimpleITK-build/ITK/Modules/IO/NIFTI/src/itkNiftiImageIO.cxx, line 2008\n",
      "NiftiImageIO (0x39b205d0): nnUNet_raw/Dataset027_ACDC/imagesTs/patient146_frame10_0000.nii.gz has unexpected scales in sform\n",
      "\n",
      "WARNING: In /tmp/SimpleITK-build/ITK/Modules/IO/NIFTI/src/itkNiftiImageIO.cxx, line 2008\n",
      "NiftiImageIO (0x39b205d0): nnUNet_raw/Dataset027_ACDC/imagesTs/patient146_frame10_0000.nii.gz has unexpected scales in sform\n",
      "\n"
     ]
    },
    {
     "name": "stdout",
     "output_type": "stream",
     "text": [
      "sending off prediction to background worker for resampling and export\n",
      "done with patient143_frame01\n",
      "\n",
      "Predicting patient143_frame12:\n",
      "perform_everything_on_device: True\n",
      "sending off prediction to background worker for resampling and export\n",
      "done with patient143_frame12\n",
      "\n",
      "Predicting patient144_frame01:\n",
      "perform_everything_on_device: True\n",
      "sending off prediction to background worker for resampling and export\n",
      "done with patient144_frame01\n"
     ]
    },
    {
     "name": "stderr",
     "output_type": "stream",
     "text": [
      "WARNING: In /tmp/SimpleITK-build/ITK/Modules/IO/NIFTI/src/itkNiftiImageIO.cxx, line 2008\n",
      "NiftiImageIO (0x29d12df0): nnUNet_raw/Dataset027_ACDC/imagesTs/patient147_frame01_0000.nii.gz has unexpected scales in sform\n",
      "\n",
      "WARNING: In /tmp/SimpleITK-build/ITK/Modules/IO/NIFTI/src/itkNiftiImageIO.cxx, line 2008\n",
      "NiftiImageIO (0x29d12df0): nnUNet_raw/Dataset027_ACDC/imagesTs/patient147_frame01_0000.nii.gz has unexpected scales in sform\n",
      "\n",
      "WARNING: In /tmp/SimpleITK-build/ITK/Modules/IO/NIFTI/src/itkNiftiImageIO.cxx, line 2008\n",
      "NiftiImageIO (0x3ceeeae0): nnUNet_raw/Dataset027_ACDC/imagesTs/patient147_frame09_0000.nii.gz has unexpected scales in sform\n",
      "\n",
      "WARNING: In /tmp/SimpleITK-build/ITK/Modules/IO/NIFTI/src/itkNiftiImageIO.cxx, line 2008\n",
      "NiftiImageIO (0x3ceeeae0): nnUNet_raw/Dataset027_ACDC/imagesTs/patient147_frame09_0000.nii.gz has unexpected scales in sform\n",
      "\n",
      "WARNING: In /tmp/SimpleITK-build/ITK/Modules/IO/NIFTI/src/itkNiftiImageIO.cxx, line 2008\n",
      "NiftiImageIO (0x39e5d290): nnUNet_raw/Dataset027_ACDC/imagesTs/patient148_frame01_0000.nii.gz has unexpected scales in sform\n",
      "\n",
      "WARNING: In /tmp/SimpleITK-build/ITK/Modules/IO/NIFTI/src/itkNiftiImageIO.cxx, line 2008\n",
      "NiftiImageIO (0x39e5d290): nnUNet_raw/Dataset027_ACDC/imagesTs/patient148_frame01_0000.nii.gz has unexpected scales in sform\n",
      "\n"
     ]
    },
    {
     "name": "stdout",
     "output_type": "stream",
     "text": [
      "\n",
      "Predicting patient144_frame09:\n",
      "perform_everything_on_device: True\n",
      "sending off prediction to background worker for resampling and export\n",
      "done with patient144_frame09\n",
      "\n",
      "Predicting patient145_frame01:\n",
      "perform_everything_on_device: True\n",
      "sending off prediction to background worker for resampling and export\n",
      "done with patient145_frame01\n",
      "\n",
      "Predicting patient145_frame13:\n",
      "perform_everything_on_device: True\n"
     ]
    },
    {
     "name": "stderr",
     "output_type": "stream",
     "text": [
      "WARNING: In /tmp/SimpleITK-build/ITK/Modules/IO/NIFTI/src/itkNiftiImageIO.cxx, line 2008\n",
      "NiftiImageIO (0x29e38f20): nnUNet_raw/Dataset027_ACDC/imagesTs/patient148_frame10_0000.nii.gz has unexpected scales in sform\n",
      "\n",
      "WARNING: In /tmp/SimpleITK-build/ITK/Modules/IO/NIFTI/src/itkNiftiImageIO.cxx, line 2008\n",
      "NiftiImageIO (0x29e38f20): nnUNet_raw/Dataset027_ACDC/imagesTs/patient148_frame10_0000.nii.gz has unexpected scales in sform\n",
      "\n"
     ]
    },
    {
     "name": "stdout",
     "output_type": "stream",
     "text": [
      "sending off prediction to background worker for resampling and export\n",
      "done with patient145_frame13\n",
      "\n",
      "Predicting patient146_frame01:\n",
      "perform_everything_on_device: True\n",
      "sending off prediction to background worker for resampling and export\n",
      "done with patient146_frame01\n",
      "\n",
      "Predicting patient146_frame10:\n",
      "perform_everything_on_device: True\n",
      "sending off prediction to background worker for resampling and export\n",
      "done with patient146_frame10\n"
     ]
    },
    {
     "name": "stderr",
     "output_type": "stream",
     "text": [
      "WARNING: In /tmp/SimpleITK-build/ITK/Modules/IO/NIFTI/src/itkNiftiImageIO.cxx, line 2008\n",
      "NiftiImageIO (0x3cbb2ec0): nnUNet_raw/Dataset027_ACDC/imagesTs/patient149_frame01_0000.nii.gz has unexpected scales in sform\n",
      "\n",
      "WARNING: In /tmp/SimpleITK-build/ITK/Modules/IO/NIFTI/src/itkNiftiImageIO.cxx, line 2008\n",
      "NiftiImageIO (0x3cbb2ec0): nnUNet_raw/Dataset027_ACDC/imagesTs/patient149_frame01_0000.nii.gz has unexpected scales in sform\n",
      "\n",
      "WARNING: In /tmp/SimpleITK-build/ITK/Modules/IO/NIFTI/src/itkNiftiImageIO.cxx, line 2008\n",
      "NiftiImageIO (0x39b205d0): nnUNet_raw/Dataset027_ACDC/imagesTs/patient149_frame12_0000.nii.gz has unexpected scales in sform\n",
      "\n",
      "WARNING: In /tmp/SimpleITK-build/ITK/Modules/IO/NIFTI/src/itkNiftiImageIO.cxx, line 2008\n",
      "NiftiImageIO (0x39b205d0): nnUNet_raw/Dataset027_ACDC/imagesTs/patient149_frame12_0000.nii.gz has unexpected scales in sform\n",
      "\n",
      "WARNING: In /tmp/SimpleITK-build/ITK/Modules/IO/NIFTI/src/itkNiftiImageIO.cxx, line 2008\n",
      "NiftiImageIO (0x29d12df0): nnUNet_raw/Dataset027_ACDC/imagesTs/patient150_frame01_0000.nii.gz has unexpected scales in sform\n",
      "\n",
      "WARNING: In /tmp/SimpleITK-build/ITK/Modules/IO/NIFTI/src/itkNiftiImageIO.cxx, line 2008\n",
      "NiftiImageIO (0x29d12df0): nnUNet_raw/Dataset027_ACDC/imagesTs/patient150_frame01_0000.nii.gz has unexpected scales in sform\n",
      "\n"
     ]
    },
    {
     "name": "stdout",
     "output_type": "stream",
     "text": [
      "\n",
      "Predicting patient147_frame01:\n",
      "perform_everything_on_device: True\n",
      "sending off prediction to background worker for resampling and export\n",
      "done with patient147_frame01\n",
      "\n",
      "Predicting patient147_frame09:\n",
      "perform_everything_on_device: True\n"
     ]
    },
    {
     "name": "stderr",
     "output_type": "stream",
     "text": [
      "WARNING: In /tmp/SimpleITK-build/ITK/Modules/IO/NIFTI/src/itkNiftiImageIO.cxx, line 2008\n",
      "NiftiImageIO (0x3ceeeae0): nnUNet_raw/Dataset027_ACDC/imagesTs/patient150_frame12_0000.nii.gz has unexpected scales in sform\n",
      "\n",
      "WARNING: In /tmp/SimpleITK-build/ITK/Modules/IO/NIFTI/src/itkNiftiImageIO.cxx, line 2008\n",
      "NiftiImageIO (0x3ceeeae0): nnUNet_raw/Dataset027_ACDC/imagesTs/patient150_frame12_0000.nii.gz has unexpected scales in sform\n",
      "\n"
     ]
    },
    {
     "name": "stdout",
     "output_type": "stream",
     "text": [
      "sending off prediction to background worker for resampling and export\n",
      "done with patient147_frame09\n",
      "nnUNet_raw is not defined and nnU-Net can only be used on data for which preprocessed files are already present on your system. nnU-Net cannot be used for experiment planning and preprocessing like this. If this is not intended, please read documentation/setting_up_paths.md for information on how to set this up properly.\n",
      "nnUNet_preprocessed is not defined and nnU-Net can not be used for preprocessing or training. If this is not intended, please read documentation/setting_up_paths.md for information on how to set this up.\n",
      "nnUNet_results is not defined and nnU-Net cannot be used for training or inference. If this is not intended behavior, please read documentation/setting_up_paths.md for information on how to set this up.\n",
      "/mnt/data/pruning_nnunet/nnunetv2/nnunetv2\n",
      "Using label manager: <class 'nnunetv2.utilities.label_handling.label_handling.LabelManager'>\n",
      "\n",
      "Predicting patient148_frame01:\n",
      "perform_everything_on_device: True\n",
      "sending off prediction to background worker for resampling and export\n",
      "done with patient148_frame01\n",
      "nnUNet_raw is not defined and nnU-Net can only be used on data for which preprocessed files are already present on your system. nnU-Net cannot be used for experiment planning and preprocessing like this. If this is not intended, please read documentation/setting_up_paths.md for information on how to set this up properly.\n",
      "nnUNet_preprocessed is not defined and nnU-Net can not be used for preprocessing or training. If this is not intended, please read documentation/setting_up_paths.md for information on how to set this up.\n",
      "nnUNet_results is not defined and nnU-Net cannot be used for training or inference. If this is not intended behavior, please read documentation/setting_up_paths.md for information on how to set this up.\n",
      "/mnt/data/pruning_nnunet/nnunetv2/nnunetv2\n",
      "Using label manager: <class 'nnunetv2.utilities.label_handling.label_handling.LabelManager'>\n",
      "\n",
      "Predicting patient148_frame10:\n",
      "perform_everything_on_device: True\n",
      "sending off prediction to background worker for resampling and export\n",
      "done with patient148_frame10\n",
      "nnUNet_raw is not defined and nnU-Net can only be used on data for which preprocessed files are already present on your system. nnU-Net cannot be used for experiment planning and preprocessing like this. If this is not intended, please read documentation/setting_up_paths.md for information on how to set this up properly.\n",
      "nnUNet_preprocessed is not defined and nnU-Net can not be used for preprocessing or training. If this is not intended, please read documentation/setting_up_paths.md for information on how to set this up.\n",
      "nnUNet_results is not defined and nnU-Net cannot be used for training or inference. If this is not intended behavior, please read documentation/setting_up_paths.md for information on how to set this up.\n",
      "/mnt/data/pruning_nnunet/nnunetv2/nnunetv2\n",
      "Using label manager: <class 'nnunetv2.utilities.label_handling.label_handling.LabelManager'>\n",
      "\n",
      "Predicting patient149_frame01:\n",
      "perform_everything_on_device: True\n",
      "sending off prediction to background worker for resampling and export\n",
      "done with patient149_frame01\n",
      "\n",
      "Predicting patient149_frame12:\n",
      "perform_everything_on_device: True\n",
      "sending off prediction to background worker for resampling and export\n",
      "done with patient149_frame12\n",
      "\n",
      "Predicting patient150_frame01:\n",
      "perform_everything_on_device: True\n",
      "sending off prediction to background worker for resampling and export\n",
      "done with patient150_frame01\n",
      "\n",
      "Predicting patient150_frame12:\n",
      "perform_everything_on_device: True\n",
      "sending off prediction to background worker for resampling and export\n",
      "done with patient150_frame12\n",
      "/mnt/data/pruning_nnunet/nnunetv2/nnunetv2\n",
      "Using label manager: <class 'nnunetv2.utilities.label_handling.label_handling.LabelManager'>\n",
      "/mnt/data/pruning_nnunet/nnunetv2/nnunetv2\n",
      "Using label manager: <class 'nnunetv2.utilities.label_handling.label_handling.LabelManager'>\n",
      "/mnt/data/pruning_nnunet/nnunetv2/nnunetv2\n",
      "Using label manager: <class 'nnunetv2.utilities.label_handling.label_handling.LabelManager'>\n",
      "/mnt/data/pruning_nnunet/nnunetv2/nnunetv2\n",
      "Using label manager: <class 'nnunetv2.utilities.label_handling.label_handling.LabelManager'>\n",
      "/mnt/data/pruning_nnunet/nnunetv2/nnunetv2\n",
      "Using label manager: <class 'nnunetv2.utilities.label_handling.label_handling.LabelManager'>\n",
      "/mnt/data/pruning_nnunet/nnunetv2/nnunetv2\n",
      "Using label manager: <class 'nnunetv2.utilities.label_handling.label_handling.LabelManager'>\n",
      "/mnt/data/pruning_nnunet/nnunetv2/nnunetv2\n",
      "Using label manager: <class 'nnunetv2.utilities.label_handling.label_handling.LabelManager'>\n",
      "/mnt/data/pruning_nnunet/nnunetv2/nnunetv2\n",
      "Using label manager: <class 'nnunetv2.utilities.label_handling.label_handling.LabelManager'>\n",
      "/mnt/data/pruning_nnunet/nnunetv2/nnunetv2\n",
      "Using label manager: <class 'nnunetv2.utilities.label_handling.label_handling.LabelManager'>\n",
      "/mnt/data/pruning_nnunet/nnunetv2/nnunetv2\n",
      "Using label manager: <class 'nnunetv2.utilities.label_handling.label_handling.LabelManager'>\n",
      "/mnt/data/pruning_nnunet/nnunetv2/nnunetv2\n",
      "Using label manager: <class 'nnunetv2.utilities.label_handling.label_handling.LabelManager'>\n",
      "/mnt/data/pruning_nnunet/nnunetv2/nnunetv2\n",
      "Using label manager: <class 'nnunetv2.utilities.label_handling.label_handling.LabelManager'>\n",
      "/mnt/data/pruning_nnunet/nnunetv2/nnunetv2\n",
      "Using label manager: <class 'nnunetv2.utilities.label_handling.label_handling.LabelManager'>\n",
      "/mnt/data/pruning_nnunet/nnunetv2/nnunetv2\n",
      "Using label manager: <class 'nnunetv2.utilities.label_handling.label_handling.LabelManager'>\n",
      "/mnt/data/pruning_nnunet/nnunetv2/nnunetv2\n",
      "Using label manager: <class 'nnunetv2.utilities.label_handling.label_handling.LabelManager'>\n",
      "/mnt/data/pruning_nnunet/nnunetv2/nnunetv2\n",
      "Using label manager: <class 'nnunetv2.utilities.label_handling.label_handling.LabelManager'>\n",
      "/mnt/data/pruning_nnunet/nnunetv2/nnunetv2\n",
      "Using label manager: <class 'nnunetv2.utilities.label_handling.label_handling.LabelManager'>\n",
      "/mnt/data/pruning_nnunet/nnunetv2/nnunetv2\n",
      "Using label manager: <class 'nnunetv2.utilities.label_handling.label_handling.LabelManager'>\n",
      "/mnt/data/pruning_nnunet/nnunetv2/nnunetv2\n",
      "Using label manager: <class 'nnunetv2.utilities.label_handling.label_handling.LabelManager'>\n",
      "/mnt/data/pruning_nnunet/nnunetv2/nnunetv2\n",
      "Using label manager: <class 'nnunetv2.utilities.label_handling.label_handling.LabelManager'>\n",
      "/mnt/data/pruning_nnunet/nnunetv2/nnunetv2\n",
      "Using label manager: <class 'nnunetv2.utilities.label_handling.label_handling.LabelManager'>\n",
      "/mnt/data/pruning_nnunet/nnunetv2/nnunetv2\n",
      "Using label manager: <class 'nnunetv2.utilities.label_handling.label_handling.LabelManager'>\n",
      "/mnt/data/pruning_nnunet/nnunetv2/nnunetv2\n",
      "Using label manager: <class 'nnunetv2.utilities.label_handling.label_handling.LabelManager'>\n",
      "/mnt/data/pruning_nnunet/nnunetv2/nnunetv2\n",
      "Using label manager: <class 'nnunetv2.utilities.label_handling.label_handling.LabelManager'>\n",
      "/mnt/data/pruning_nnunet/nnunetv2/nnunetv2\n",
      "Using label manager: <class 'nnunetv2.utilities.label_handling.label_handling.LabelManager'>\n",
      "/mnt/data/pruning_nnunet/nnunetv2/nnunetv2\n",
      "Using label manager: <class 'nnunetv2.utilities.label_handling.label_handling.LabelManager'>\n",
      "/mnt/data/pruning_nnunet/nnunetv2/nnunetv2\n",
      "Using label manager: <class 'nnunetv2.utilities.label_handling.label_handling.LabelManager'>\n",
      "/mnt/data/pruning_nnunet/nnunetv2/nnunetv2\n",
      "Using label manager: <class 'nnunetv2.utilities.label_handling.label_handling.LabelManager'>\n",
      "/mnt/data/pruning_nnunet/nnunetv2/nnunetv2\n",
      "Using label manager: <class 'nnunetv2.utilities.label_handling.label_handling.LabelManager'>\n",
      "/mnt/data/pruning_nnunet/nnunetv2/nnunetv2\n",
      "Using label manager: <class 'nnunetv2.utilities.label_handling.label_handling.LabelManager'>\n",
      "/mnt/data/pruning_nnunet/nnunetv2/nnunetv2\n",
      "Using label manager: <class 'nnunetv2.utilities.label_handling.label_handling.LabelManager'>\n",
      "/mnt/data/pruning_nnunet/nnunetv2/nnunetv2\n",
      "Using label manager: <class 'nnunetv2.utilities.label_handling.label_handling.LabelManager'>\n",
      "/mnt/data/pruning_nnunet/nnunetv2/nnunetv2\n",
      "Using label manager: <class 'nnunetv2.utilities.label_handling.label_handling.LabelManager'>\n",
      "/mnt/data/pruning_nnunet/nnunetv2/nnunetv2\n",
      "Using label manager: <class 'nnunetv2.utilities.label_handling.label_handling.LabelManager'>\n",
      "/mnt/data/pruning_nnunet/nnunetv2/nnunetv2\n",
      "Using label manager: <class 'nnunetv2.utilities.label_handling.label_handling.LabelManager'>\n",
      "/mnt/data/pruning_nnunet/nnunetv2/nnunetv2\n",
      "Using label manager: <class 'nnunetv2.utilities.label_handling.label_handling.LabelManager'>\n",
      "/mnt/data/pruning_nnunet/nnunetv2/nnunetv2\n",
      "Using label manager: <class 'nnunetv2.utilities.label_handling.label_handling.LabelManager'>\n",
      "/mnt/data/pruning_nnunet/nnunetv2/nnunetv2\n",
      "Using label manager: <class 'nnunetv2.utilities.label_handling.label_handling.LabelManager'>\n",
      "/mnt/data/pruning_nnunet/nnunetv2/nnunetv2\n",
      "Using label manager: <class 'nnunetv2.utilities.label_handling.label_handling.LabelManager'>\n",
      "/mnt/data/pruning_nnunet/nnunetv2/nnunetv2\n",
      "Using label manager: <class 'nnunetv2.utilities.label_handling.label_handling.LabelManager'>\n",
      "/mnt/data/pruning_nnunet/nnunetv2/nnunetv2\n",
      "Using label manager: <class 'nnunetv2.utilities.label_handling.label_handling.LabelManager'>\n",
      "/mnt/data/pruning_nnunet/nnunetv2/nnunetv2\n",
      "Using label manager: <class 'nnunetv2.utilities.label_handling.label_handling.LabelManager'>\n",
      "/mnt/data/pruning_nnunet/nnunetv2/nnunetv2\n",
      "Using label manager: <class 'nnunetv2.utilities.label_handling.label_handling.LabelManager'>\n",
      "/mnt/data/pruning_nnunet/nnunetv2/nnunetv2\n",
      "Using label manager: <class 'nnunetv2.utilities.label_handling.label_handling.LabelManager'>\n",
      "/mnt/data/pruning_nnunet/nnunetv2/nnunetv2\n",
      "Using label manager: <class 'nnunetv2.utilities.label_handling.label_handling.LabelManager'>\n",
      "/mnt/data/pruning_nnunet/nnunetv2/nnunetv2\n",
      "Using label manager: <class 'nnunetv2.utilities.label_handling.label_handling.LabelManager'>\n",
      "/mnt/data/pruning_nnunet/nnunetv2/nnunetv2\n",
      "Using label manager: <class 'nnunetv2.utilities.label_handling.label_handling.LabelManager'>\n",
      "/mnt/data/pruning_nnunet/nnunetv2/nnunetv2\n",
      "Using label manager: <class 'nnunetv2.utilities.label_handling.label_handling.LabelManager'>\n",
      "/mnt/data/pruning_nnunet/nnunetv2/nnunetv2\n",
      "Using label manager: <class 'nnunetv2.utilities.label_handling.label_handling.LabelManager'>\n",
      "/mnt/data/pruning_nnunet/nnunetv2/nnunetv2\n",
      "Using label manager: <class 'nnunetv2.utilities.label_handling.label_handling.LabelManager'>\n",
      "/mnt/data/pruning_nnunet/nnunetv2/nnunetv2\n",
      "Using label manager: <class 'nnunetv2.utilities.label_handling.label_handling.LabelManager'>\n",
      "/mnt/data/pruning_nnunet/nnunetv2/nnunetv2\n",
      "Using label manager: <class 'nnunetv2.utilities.label_handling.label_handling.LabelManager'>\n",
      "/mnt/data/pruning_nnunet/nnunetv2/nnunetv2\n",
      "Using label manager: <class 'nnunetv2.utilities.label_handling.label_handling.LabelManager'>\n",
      "/mnt/data/pruning_nnunet/nnunetv2/nnunetv2\n",
      "Using label manager: <class 'nnunetv2.utilities.label_handling.label_handling.LabelManager'>\n",
      "/mnt/data/pruning_nnunet/nnunetv2/nnunetv2\n",
      "Using label manager: <class 'nnunetv2.utilities.label_handling.label_handling.LabelManager'>\n",
      "/mnt/data/pruning_nnunet/nnunetv2/nnunetv2\n",
      "Using label manager: <class 'nnunetv2.utilities.label_handling.label_handling.LabelManager'>\n",
      "/mnt/data/pruning_nnunet/nnunetv2/nnunetv2\n",
      "Using label manager: <class 'nnunetv2.utilities.label_handling.label_handling.LabelManager'>\n",
      "/mnt/data/pruning_nnunet/nnunetv2/nnunetv2\n",
      "Using label manager: <class 'nnunetv2.utilities.label_handling.label_handling.LabelManager'>\n",
      "/mnt/data/pruning_nnunet/nnunetv2/nnunetv2\n",
      "Using label manager: <class 'nnunetv2.utilities.label_handling.label_handling.LabelManager'>\n",
      "/mnt/data/pruning_nnunet/nnunetv2/nnunetv2\n",
      "Using label manager: <class 'nnunetv2.utilities.label_handling.label_handling.LabelManager'>\n",
      "/mnt/data/pruning_nnunet/nnunetv2/nnunetv2\n",
      "Using label manager: <class 'nnunetv2.utilities.label_handling.label_handling.LabelManager'>\n",
      "/mnt/data/pruning_nnunet/nnunetv2/nnunetv2\n",
      "Using label manager: <class 'nnunetv2.utilities.label_handling.label_handling.LabelManager'>\n",
      "/mnt/data/pruning_nnunet/nnunetv2/nnunetv2\n",
      "Using label manager: <class 'nnunetv2.utilities.label_handling.label_handling.LabelManager'>\n"
     ]
    }
   ],
   "execution_count": 8
  }
 ],
 "metadata": {
  "kernelspec": {
   "display_name": "Python 3",
   "language": "python",
   "name": "python3"
  },
  "language_info": {
   "codemirror_mode": {
    "name": "ipython",
    "version": 2
   },
   "file_extension": ".py",
   "mimetype": "text/x-python",
   "name": "python",
   "nbconvert_exporter": "python",
   "pygments_lexer": "ipython2",
   "version": "2.7.6"
  }
 },
 "nbformat": 4,
 "nbformat_minor": 5
}
