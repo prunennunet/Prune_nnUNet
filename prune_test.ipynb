{
 "cells": [
  {
   "metadata": {},
   "cell_type": "code",
   "source": [
    "from pathlib import Path\n",
    "from helper.read_config import read_config, get_prune_config\n",
    "from helper.load_model import choose_device, load_predictor_from_folder\n",
    "from prune.range_prune import apply_range_pruning_to_model\n",
    "from prune.verify_prune import verify_pruning\n",
    "from pprint import pprint\n",
    "from prune.predict_after_prune import predict_after_prune"
   ],
   "id": "e18ff13b5dce7de6",
   "outputs": [],
   "execution_count": null
  },
  {
   "cell_type": "code",
   "id": "initial_id",
   "metadata": {
    "collapsed": true
   },
   "source": [
    "config_path = Path(\"scripts/config/config.yaml\")\n",
    "device = choose_device()"
   ],
   "outputs": [],
   "execution_count": null
  },
  {
   "metadata": {},
   "cell_type": "code",
   "source": [
    "# Get the network architecture\n",
    "config = read_config(config_path)\n",
    "prune_config = get_prune_config(config)\n",
    "pprint(prune_config)\n",
    "predictor = load_predictor_from_folder(prune_config['model_folder'], prune_config['fold_tuple'], prune_config['checkpoint_name'])\n",
    "model = predictor.network\n",
    "\n",
    "# Inspect state_dict BEFORE pruning\n",
    "print(\"===== STATE DICT BEFORE PRUNING =====\")\n",
    "before_keys = set()\n",
    "for key in model.state_dict().keys():\n",
    "    before_keys.add(key)\n",
    "    # Print a sample of keys to avoid overwhelming output\n",
    "    if len(before_keys) <= 10 or 'encoder.stages.0.0.convs.0' in key:\n",
    "        print(f\"KEY: {key}\")"
   ],
   "id": "a99b9b8ce563ad75",
   "outputs": [],
   "execution_count": null
  },
  {
   "metadata": {},
   "cell_type": "code",
   "source": [
    "# print(list(model.named_parameters()))\n",
    "# print(model)\n",
    "verify_pruning(predictor.network)"
   ],
   "id": "fab2670c64c68bb8",
   "outputs": [],
   "execution_count": null
  },
  {
   "metadata": {},
   "cell_type": "code",
   "source": [
    "prune_model = apply_range_pruning_to_model(model, min_val=-5.0e-0, max_val=5.0e-0)\n",
    "\n",
    "# Inspect state_dict AFTER pruning\n",
    "print(\"\\n===== STATE DICT AFTER PRUNING =====\")\n",
    "after_keys = set()\n",
    "for key in prune_model.state_dict().keys():\n",
    "    after_keys.add(key)\n",
    "    # Print a sample of keys to avoid overwhelming output\n",
    "    if len(after_keys) <= 10 or 'encoder.stages.0.0.convs.0' in key:\n",
    "        print(f\"KEY: {key}\")"
   ],
   "id": "681298ec744c366",
   "outputs": [],
   "execution_count": null
  },
  {
   "metadata": {},
   "cell_type": "code",
   "source": [
    "# Show what's changed\n",
    "print(\"\\n===== CHANGES IN STATE DICT =====\")\n",
    "removed_keys = before_keys - after_keys\n",
    "added_keys = after_keys - before_keys\n",
    "\n",
    "print(\"REMOVED KEYS:\")\n",
    "for key in removed_keys:\n",
    "    if 'encoder.stages.0.0.convs.0' in key:\n",
    "        print(f\"- {key}\")\n",
    "\n",
    "print(\"\\nADDED KEYS:\")\n",
    "for key in added_keys:\n",
    "    if 'encoder.stages.0.0.convs.0' in key:\n",
    "        print(f\"+ {key}\")"
   ],
   "id": "4fd0994843b5407b",
   "outputs": [],
   "execution_count": null
  },
  {
   "metadata": {},
   "cell_type": "code",
   "source": "_ = verify_pruning(predictor.network)",
   "id": "49ce5e37e7a3bf2c",
   "outputs": [],
   "execution_count": null
  },
  {
   "metadata": {},
   "cell_type": "code",
   "source": "predict_after_prune(predictor, prune_config)",
   "id": "ccfac5db842309b5",
   "outputs": [],
   "execution_count": null
  }
 ],
 "metadata": {
  "kernelspec": {
   "display_name": "Python 3",
   "language": "python",
   "name": "python3"
  },
  "language_info": {
   "codemirror_mode": {
    "name": "ipython",
    "version": 2
   },
   "file_extension": ".py",
   "mimetype": "text/x-python",
   "name": "python",
   "nbconvert_exporter": "python",
   "pygments_lexer": "ipython2",
   "version": "2.7.6"
  }
 },
 "nbformat": 4,
 "nbformat_minor": 5
}
