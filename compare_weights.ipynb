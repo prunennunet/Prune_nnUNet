{
 "cells": [
  {
   "cell_type": "code",
   "id": "initial_id",
   "metadata": {
    "collapsed": true
   },
   "source": [
    "from helper.load_model import load_model_from_pth\n",
    "\n",
    "model_path_1 = \"/media/tonguyunyang/tony_data/data/pruning_nnunet_experiment_storage/prune_predictions_norm_off/RangePruning/max_val_7e-3__min_val_-7e-3__prune_bias_True__prune_layers_conv__prune_weights_True/fold_all/final_model/pruned_model_with_masks.pth\"\n",
    "model_1 = load_model_from_pth(model_path_1, 'cpu')\n",
    "\n",
    "model_path_2 = \"/media/tonguyunyang/tony_data/data/pruning_nnunet_experiment_storage/prune_predictions_norm_off/RangePruning/max_val_7e-3__min_val_-7e-3__prune_bias_True__prune_layers_conv__prune_weights_True/fold_all/final_model/pruned_model_standard.pth\"\n",
    "model_2 = load_model_from_pth(model_path_2, 'cpu')"
   ],
   "outputs": [],
   "execution_count": null
  },
  {
   "metadata": {},
   "cell_type": "code",
   "source": [
    "print(type(model_2))\n",
    "# <class 'collections.OrderedDict'>\n",
    "\n",
    "# Then you can directly iterate this OrderedDict:\n",
    "def count_unique_params_from_ordereddict(ordered_dict):\n",
    "    seen_storages = set()\n",
    "    total_params = 0\n",
    "\n",
    "    for name, values in ordered_dict.items():\n",
    "        storage_id = id(values.untyped_storage())\n",
    "        if storage_id not in seen_storages:\n",
    "            seen_storages.add(storage_id)\n",
    "            layer_params = values.numel()\n",
    "            total_params += layer_params\n",
    "            print(f\"{name} : {layer_params}\")\n",
    "        else:\n",
    "            print(f\"Skipped {name}\")\n",
    "\n",
    "    return total_params\n",
    "\n",
    "unique_param_count = count_unique_params_from_ordereddict(model_2)\n",
    "print(f\"Unique parameters in OrderedDict: {unique_param_count}\")\n"
   ],
   "id": "4036ec70df9f7532",
   "outputs": [],
   "execution_count": null
  }
 ],
 "metadata": {
  "kernelspec": {
   "display_name": "Python 3",
   "language": "python",
   "name": "python3"
  },
  "language_info": {
   "codemirror_mode": {
    "name": "ipython",
    "version": 2
   },
   "file_extension": ".py",
   "mimetype": "text/x-python",
   "name": "python",
   "nbconvert_exporter": "python",
   "pygments_lexer": "ipython2",
   "version": "2.7.6"
  }
 },
 "nbformat": 4,
 "nbformat_minor": 5
}
